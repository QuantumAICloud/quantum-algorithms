{
 "cells": [
  {
   "cell_type": "markdown",
   "metadata": {},
   "source": [
    "# Grover's Algorithm Preview\n",
    "\n",
    "Grover's algorithm is one of the most famous quantum algorithms introduced by Lov Grover in 1996 \\[1\\]. It has initially been proposed for unstructured search problems, i.e. for finding a marked element in a unstructured database. \n",
    "\n",
    "However, Grover's algorithm is now a subroutine to several other algorithms, such as Grover Adaptive Search \\[2\\]. For the details of Grover's algorithm, please see [Grover's Algorithm](https://github.com/Qiskit/textbook/blob/main/notebooks/ch-algorithms/grover.ipynb) in the Qiskit textbook.\n",
    "\n",
    "When you work with Qiskit, they're already implements the Grover's algorithm in the `Grover` class in their library. This class also includes the **generalized version** which is what we will try to understand and implement in a few next subcodes.\n",
    "\n",
    "For more advanced Grover's version that `Grover` class also includes, **Amplitude Amplification** \\[3\\], allows setting individual iterations and other meta-settings to Grover's algorithm.\n",
    "\n",
    "**References:**\n",
    "\n",
    "\\[1\\]: L. K. Grover, A fast quantum mechanical algorithm for database search. Proceedings 28th Annual Symposium on\n",
    "the Theory of Computing (STOC) 1996, pp. 212-219. https://arxiv.org/abs/quant-ph/9605043\n",
    "\n",
    "\\[2\\]: A. Gilliam, S. Woerner, C. Gonciulea, Grover Adaptive Search for Constrained Polynomial Binary Optimization.\n",
    "https://arxiv.org/abs/1912.04088\n",
    "\n",
    "\n",
    "\\[3\\]: Brassard, G., Hoyer, P., Mosca, M., & Tapp, A. (2000). Quantum Amplitude Amplification and Estimation. http://arxiv.org/abs/quant-ph/0005055"
   ]
  },
  {
   "cell_type": "markdown",
   "metadata": {},
   "source": [
    "## Grover's Algorithm: The Basic"
   ]
  },
  {
   "cell_type": "markdown",
   "metadata": {},
   "source": [
    "Grover's algorithm uses the Grover operator $\\mathcal{Q}$ to amplify the amplitudes of the good states:\n",
    "\n",
    "$$\n",
    "    \\mathcal{Q} = \\mathcal{A}\\mathcal{S_0}\\mathcal{A}^\\dagger \\mathcal{S_f}\n",
    "$$\n",
    "\n",
    "Here,\n",
    "* $\\mathcal{A}$ is the initial search state for the algorithm, which is just Hadamards, $H^{\\otimes n}$ for the textbook Grover search, but can be more elaborate for Amplitude Amplification\n",
    "* $\\mathcal{S_0}$ is the reflection about the all 0 state\n",
    "$$\n",
    "    |x\\rangle \\mapsto \\begin{cases} -|x\\rangle, &x \\neq 0 \\\\ |x\\rangle, &x = 0\\end{cases}\n",
    "$$\n",
    "* $\\mathcal{S_f}$ is the oracle that applies\n",
    "$$\n",
    "    |x\\rangle \\mapsto (-1)^{f(x)}|x\\rangle\n",
    "$$\n",
    "&nbsp;&nbsp;&nbsp;&nbsp;　where $f(x)$ is 1 if $x$ is a good state and otherwise 0.\n",
    "\n",
    "In a nutshell, Grover's algorithm applies different powers of $\\mathcal{Q}$ and after each execution checks whether a good solution has been found.\n",
    "\n",
    "\n",
    "### Running Grover's algorithm\n",
    "\n",
    "To run Grover's algorithm with the `Grover` class, firstly, we need to specify an oracle for the circuit of Grover's algorithm. In the following example, we use `QuantumCircuit` as the oracle of Grover's algorithm. However, there are several other class that we can use as the oracle of Grover's algorithm. We talk about them later in this tutorial.\n",
    "\n",
    "Note that the oracle for `Grover` must be a _phase-flip_ oracle. That is, it multiplies the amplitudes of the of \"good states\" by a factor of $-1$. We explain later how to convert a _bit-flip_ oracle to a phase-flip oracle."
   ]
  },
  {
   "cell_type": "markdown",
   "metadata": {},
   "source": [
    "# What you need to know\n",
    "\n",
    "In this mini project, I'll teaching you how to use the `grover` class which including **Generalized** and **Amplitude Amplification** version. To start with, you will need to know a little bit about the Python programming language. This jupyter file contains a mixture of tutorial content, pre-written code blocks, and challenge code blocks that require you to fill in your own `code`. To complete an exercise, you'll need to type the required code underneath each line that has the `## Write your code below here ##` comment."
   ]
  },
  {
   "cell_type": "markdown",
   "metadata": {},
   "source": [
    "### Example of a CHALLENGE CODE BLOCKS\n",
    "\n",
    "From a given a list of numbers, help me create 2 other lists based from that list, \"a\" containing odd numbers and \"b\" containing even numbers. "
   ]
  },
  {
   "cell_type": "code",
   "execution_count": null,
   "metadata": {},
   "outputs": [],
   "source": [
    "# given list of numbers\n",
    "numbers = [1, 2, 3, 4, 5, 6, 7, 8, 9]\n",
    "\n",
    "# create lists to store even and odd numbers\n",
    "a = []  # odd\n",
    "b = []  # even\n",
    "\n",
    "# iterate over the list and check if the number is even or odd\n",
    "for number in numbers:\n",
    "    ## Write your code below here ##\n",
    "        \n",
    "    \n",
    "        \n",
    "    ## Write your code above here ##    \n",
    "        b.append(number)  # add even number to list b\n",
    "    else:\n",
    "        a.append(number)  # add odd number to list a\n",
    "\n",
    "# print the lists\n",
    "print(\"Odd numbers:\", a)\n",
    "print(\"Even numbers:\", b)\n"
   ]
  },
  {
   "cell_type": "markdown",
   "metadata": {},
   "source": [
    "Your result should look like this:\n",
    "\n",
    "`Odd numbers: [1, 3, 5, 7, 9]`\n",
    "\n",
    "`Even numbers: [2, 4, 6, 8]`"
   ]
  },
  {
   "cell_type": "markdown",
   "metadata": {},
   "source": [
    "It's important to note that you should **run each code cell**, even if you didn't write any new code there. This ensures that when you submit your answers later on, everything is up to date. There will be one or two exceptions to this rule, depending on what type of computer you are using."
   ]
  },
  {
   "cell_type": "markdown",
   "metadata": {},
   "source": [
    "# Install Qikis & Check Versions\n",
    "\n",
    "If you are already have these requirements, please skip these under code blocks:\n",
    "* Python 3.10 - 3.11\n",
    "* qiskit 1.0.2 +\n",
    "* qiskit_algorithms 0.3.0\n",
    "\n",
    "**Remember, if you need to reinstall any packages, restart your kernel (or runtime) first.**"
   ]
  },
  {
   "cell_type": "code",
   "execution_count": null,
   "metadata": {},
   "outputs": [],
   "source": [
    "### CHECK PYTHON VERSION \n",
    "import sys\n",
    "print(sys.version)"
   ]
  },
  {
   "cell_type": "code",
   "execution_count": null,
   "metadata": {},
   "outputs": [],
   "source": [
    "### INSTALL QISKIT: Change %pip into !pip if you are using Cloud-based environment (Google Colab)###\n",
    "%pip install qiskit[visualization]==1.1.0\n",
    "#  !pip install qiskit[visualization]==1.1.0"
   ]
  },
  {
   "cell_type": "code",
   "execution_count": null,
   "metadata": {},
   "outputs": [],
   "source": [
    "### Install the other required packages as well\n",
    "\n",
    "%pip install qiskit_aer\n",
    "%pip install qiskit_ibm_runtime\n",
    "%pip install matplotlib\n",
    "%pip install pylatexenc\n",
    "%pip install qiskit-transpiler-service"
   ]
  },
  {
   "cell_type": "code",
   "execution_count": null,
   "metadata": {},
   "outputs": [],
   "source": [
    "### CHECK QISKIT VERSION\n",
    "import qiskit\n",
    "qiskit.__version__"
   ]
  },
  {
   "cell_type": "code",
   "execution_count": null,
   "metadata": {},
   "outputs": [],
   "source": [
    "import qiskit_algorithms\n",
    "qiskit_algorithms.__version__"
   ]
  },
  {
   "cell_type": "code",
   "execution_count": null,
   "metadata": {},
   "outputs": [],
   "source": [
    "### CHECK OTHER DEPENDENCIES\n",
    "%pip show pylatexenc matplotlib"
   ]
  },
  {
   "cell_type": "markdown",
   "metadata": {},
   "source": [
    "# Starting"
   ]
  }
 ],
 "metadata": {
  "kernelspec": {
   "display_name": "qiskit",
   "language": "python",
   "name": "python3"
  },
  "language_info": {
   "codemirror_mode": {
    "name": "ipython",
    "version": 3
   },
   "file_extension": ".py",
   "mimetype": "text/x-python",
   "name": "python",
   "nbconvert_exporter": "python",
   "pygments_lexer": "ipython3",
   "version": "3.11.9"
  }
 },
 "nbformat": 4,
 "nbformat_minor": 2
}
