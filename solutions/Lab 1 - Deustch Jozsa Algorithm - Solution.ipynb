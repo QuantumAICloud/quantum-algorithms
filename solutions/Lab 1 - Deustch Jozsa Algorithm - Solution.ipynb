{
 "cells": [
  {
   "cell_type": "markdown",
   "id": "2d97723e-81e0-4c1a-a01e-5c76f0760326",
   "metadata": {},
   "source": [
    "# Deustch-Jozsa Algorithm"
   ]
  },
  {
   "cell_type": "markdown",
   "id": "0d955d55-f96c-470a-9b64-b998f9a857e2",
   "metadata": {},
   "source": [
    "In this notebook, we introduce the Deutsch-Jozsa problem, and classical and quantum algorithms to solve it. We then implement the quantum algorithm using Qiskit 1.0, and run it on a quantum simulator."
   ]
  },
  {
   "cell_type": "markdown",
   "id": "7c746bc3",
   "metadata": {},
   "source": [
    "<div class=\"alert alert-block alert-warning\">\n",
    "\n",
    "This notebook was created for internal training purposes within the **QuantumAI.Cloud (QAC) Hub**, using materials referenced in the Reference section.\n",
    "\n",
    "</div>"
   ]
  },
  {
   "cell_type": "markdown",
   "id": "8f1f56c4-3939-4163-ae29-31da94f0d9b0",
   "metadata": {},
   "source": [
    "## 1. Introduction\n",
    "The Deutsch–Jozsa's algorithm (or DJ for short) is a deterministic quantum algorithm proposed by David Deutsch and Richard Jozsa in 1992, with improvements by Richard Cleve, Artur Ekert, Chiara Macchiavello, and Michele Mosca in 1998. It was one of the first examples of an exponential benefit of quantum over classical computation for the “balanced vs. constant” black-box promise problem."
   ]
  },
  {
   "cell_type": "markdown",
   "id": "7a9eaa75-8829-4a32-83dd-4ac078b08c2a",
   "metadata": {},
   "source": [
    "### 1.1 Problem Statement\n",
    "__Given:__ A hidden Boolean function $f$ (oracle), which takes as input a string of bits, and returns either $0$ or $1$, that is:\n",
    "\n",
    "$f:\\left\\{ 0,1 \\right\\}^{n}\\to \\left\\{ 0,1 \\right\\}$\n",
    "\n",
    "__Promise:__ The function is either **constant** (0 on all inputs or 1 on all inputs) or **balanced** (1 for exactly half of the input domain and 0 for the other half). \n",
    "\n",
    "__Problem:__ To determine (with certainty) whether f is constant or balanced."
   ]
  },
  {
   "cell_type": "markdown",
   "id": "3fecd8ad-1593-4bc0-b86e-8d1d05cd4d56",
   "metadata": {},
   "source": [
    "### 1.2 Classical Solution\n",
    "**TLDR;** _If we use the classical approach, we need to make at least $\\frac{2^n}{2} + 1$ queries in the worst case to make sure that the function is etiher balanced or constant. For example, for a $3$-bit string, if we checked $4$ out of the $8$ possible combinations, getting all $0$'s, it is still possible that the $5^{th}$ input returns a $1$ and $f(x)$ is balanced._\n",
    "\n",
    "Classically, in the best case, two queries to the oracle can determine if the hidden Boolean function, $f(x)$, is balanced: \n",
    "e.g. if we get both $f(0,0,0,...)\\rightarrow 0$ and $f(1,0,0,...) \\rightarrow 1$, then we know the function is balanced as we have obtained the two different outputs.  \n",
    "\n",
    "In the worst case, if we continue to see the same output for each input we try, we will have to check exactly half of all possible inputs plus one in order to be certain that $f(x)$ is constant. Since the total number of possible inputs is $2^n$, this implies that we need $2^{n-1}+1$ trial inputs to be certain that $f(x)$ is constant in the worst case. For example, for a $4$-bit string, if we checked $8$ out of the $16$ possible combinations, getting all $0$'s, it is still possible that the $9^\\textrm{th}$ input returns a $1$ and $f(x)$ is balanced. Probabilistically, this is a very unlikely event. In fact, if we get the same result continually in succession, we can express the probability that the function is constant as a function of $k$ inputs as:\n",
    "\n",
    "\n",
    "\n",
    "$$ P_\\textrm{constant}(k) = 1 - \\frac{1}{2^{k-1}} \\qquad \\textrm{for } 1 < k \\leq 2^{n-1}$$\n",
    "\n",
    "\n",
    "\n",
    "Realistically, we could opt to truncate our classical algorithm early, say if we were over x% confident. But if we want to be 100% confident, we would need to check $2^{n-1}+1$ inputs."
   ]
  },
  {
   "cell_type": "markdown",
   "id": "6a9ed4ad-3059-4924-b709-56d7d7d47487",
   "metadata": {},
   "source": [
    "### 1.3 Quantum Solution\n",
    "Using a quantum computer, we can solve this problem with 100% confidence after only one call to the function $f(x)$, provided we have the function $f$ implemented as a quantum oracle, which maps the state $\\vert x\\rangle \\vert y\\rangle $ to $ \\vert x\\rangle \\vert y \\oplus f(x)\\rangle$, where $\\oplus$ is addition modulo $2$. Below is the generic circuit for the Deutsch-Jozsa algorithm.\n",
    "\n",
    " <img src=\"../images/deutschjozsa.png\" width=\"60%\" align=\"center\">"
   ]
  },
  {
   "cell_type": "markdown",
   "id": "0b86cedf-d601-4d90-81ba-3c96bc8cb913",
   "metadata": {},
   "source": [
    "1. Set the $\\left( n+1 \\right)^{th}$ qubit to $\\ket{-}$ by applying $X$ and $H$ gates.\n",
    "2. Apply $H$ on the first $n$ qubits.\n",
    "3. Apply the oracle function, $U_f$ across all qubits.\n",
    "4. Apply $H$ on the first $n$ qubits.\n",
    "5. Measure the first $n$ qubits.\n",
    "   \n",
    "If we get $0^n$ as the outcome then our function is constant, otherwise it is balanced. Thus, the algorithm makes just a single query and gives a deterministic answer for the “balanced vs. constant” black-box promise problem!"
   ]
  },
  {
   "cell_type": "markdown",
   "id": "c915401b-515d-4c7f-9ad9-2df89e5ca5ce",
   "metadata": {},
   "source": [
    "### 1.4 Analysis\n",
    "Now, let's go through the steps of the algorithm:\n",
    "\n",
    " <img src=\"../images/deutschjozsa2.png\" width=\"60%\" align=\"center\">"
   ]
  },
  {
   "cell_type": "markdown",
   "id": "2a7a8732-640b-4073-9e71-74647cc5b552",
   "metadata": {},
   "source": [
    "1. Prepare two quantum registers. The first is an $n$-qubit register initialized to $|0\\rangle$, and the second is a one-qubit register initialized to $|1\\rangle$:\n",
    "\n",
    "    Our initial state is $$ \\ket{\\psi_0} = \\ket{0}^{\\otimes n} \\ket{0}.$$\n",
    "\n",
    "    Next we apply an $X$ gate to last qubit,\n",
    "        $$ \\ket{\\psi_1} = \\ket{0}^{\\otimes n} \\ket{1}.$$\n",
    "\n",
    "2. We apply $H$ gate to set last qubit to state $\\ket{-}$ and also apply $H$ gate to first $n$ qubits,\n",
    "    $$ \\ket{\\psi_2} = \\frac{1}{\\sqrt{2^n}}\\sum_{x \\in \\{0,1\\}^n} \\ket{x} \\otimes \\ket{-}.$$"
   ]
  },
  {
   "cell_type": "markdown",
   "id": "d16b662e-ced1-4d50-b39e-30509220ce24",
   "metadata": {},
   "source": [
    "3. Now we apply the quantum oracle $U_f$. Recalling phase kickback, we can rewrite our entire state as\n",
    "\n",
    "    $$ \\ket{\\psi_3} = \\bigg[ \\frac{1}{\\sqrt{2^n}} \\sum_{x \\in \\{0,1\\}^n} (-1)^{f(x)} \\ket{x} \\bigg] \\otimes \\ket{-}. $$\n",
    "\n",
    "    Note that we apply $U_f$ to each basis state and write our quantum state using sum notation since we have an equal superposition of them.\n",
    "    \n",
    "    Now we can ignore the output qubit and only focus on the input qubits to write\n",
    "\n",
    "    $$ \\ket{\\psi_{3,0}} = \\frac{1}{\\sqrt{2^n}} \\sum_{x \\in \\{0,1\\}^n} (-1)^{f(x)} \\ket{x}.$$\n"
   ]
  },
  {
   "cell_type": "markdown",
   "id": "8f305105-0257-4c97-8860-db655792ca0d",
   "metadata": {},
   "source": [
    "4. Now, we apply Hadamard to each qubit, and noting that \n",
    "    $$H^{\\otimes n} \\ket{x} = \\frac{1}{\\sqrt{2^n}} \\sum_{z  \\in \\{0,1\\}^n}(-1)^{x \\cdot z}\\ket{z},$$\n",
    "    we get\n",
    "    $$ \\ket{\\psi_{4,0}} = \\frac{1}{2^n} \\sum_{x \\in \\{0,1\\}^n} \\sum_{z \\in \\{0,1\\}^n}(-1)^{x\\cdot z + f(x)} \\ket{z}.$$\n",
    "\n",
    "We know the probability of observing a state is equal to the square of its amplitude. Now let's focus on the state $z=\\ket{0}^{\\otimes n}$. Replacing $z=0$ in the above sum, its amplitude is given by\n",
    "\n",
    "$$\\frac{1}{2^n} \\sum_{x \\in \\{0,1\\}^n} (-1)^{f(x)}.$$\n",
    "\n",
    "So, if the function is constant, then this sum adds up to 1 or -1, meaning that we observe $z=\\ket{0}^{\\otimes n}$ 100% of the time and the amplitudes of all other states cancel each other, resulting in 0 probability.  \n",
    "\n",
    "Similarly, the probability of observing $z=\\ket{0}^{\\otimes n}$ is 0 if the function is balanced since exactly half of the terms have opposite signs and in this case we observe a non-zero string."
   ]
  },
  {
   "cell_type": "markdown",
   "id": "24746c2c",
   "metadata": {},
   "source": [
    "### 1.5 Why Does This Work? <a id='why-does-this-work'> </a>\n",
    "\n",
    "- **Constant Oracle**\n",
    "\n",
    "    When the oracle is *constant*, it has no effect (up to a global phase) on the input qubits, and the quantum states before and after querying the oracle are the same. Since the H-gate is its own inverse, in Step 4 we reverse Step 2 to obtain the initial quantum state of $|00\\dots 0\\rangle$ in the first register.\n",
    "\n",
    "    $$\n",
    "    H^{\\otimes n}\\begin{bmatrix} 1 \\\\ 0 \\\\ 0 \\\\ \\vdots \\\\ 0 \\end{bmatrix} \n",
    "    = \n",
    "    \\tfrac{1}{\\sqrt{2^n}}\\begin{bmatrix} 1 \\\\ 1 \\\\ 1 \\\\ \\vdots \\\\ 1 \\end{bmatrix}\n",
    "    \\quad \\xrightarrow{\\text{after } U_f} \\quad\n",
    "    H^{\\otimes n}\\tfrac{1}{\\sqrt{2^n}}\\begin{bmatrix} 1 \\\\ 1 \\\\ 1 \\\\ \\vdots \\\\ 1 \\end{bmatrix}\n",
    "    = \n",
    "    \\begin{bmatrix} 1 \\\\ 0 \\\\ 0 \\\\ \\vdots \\\\ 0 \\end{bmatrix} \n",
    "    $$\n",
    "\n",
    "- **Balanced Oracle**\n",
    "\n",
    "    After step 2, our input register is an equal superposition of all the states in the computational basis. When the oracle is *balanced*, phase kickback adds a negative phase to exactly half these states:\n",
    "\n",
    "    $$\n",
    "    U_f \\tfrac{1}{\\sqrt{2^n}}\\begin{bmatrix} 1 \\\\ 1 \\\\ 1 \\\\ \\vdots \\\\ 1 \\end{bmatrix} \n",
    "    = \n",
    "    \\tfrac{1}{\\sqrt{2^n}}\\begin{bmatrix} -1 \\\\ 1 \\\\ -1 \\\\ \\vdots \\\\ 1 \\end{bmatrix}\n",
    "    $$\n",
    "\n",
    "\n",
    "    The quantum state after querying the oracle is orthogonal to the quantum state before querying the oracle. Thus, in Step 4, when applying the H-gates, we must end up with a quantum state that is orthogonal to $|00\\dots 0\\rangle$. This means we should never measure the all-zero state. \n"
   ]
  },
  {
   "cell_type": "markdown",
   "id": "86954aff",
   "metadata": {},
   "source": [
    "### 1.6 Worked Example  <a id='example'></a>\n",
    "\n",
    "Let's go through a specific example for a two bit balanced function: \n",
    "\n",
    "Consider a two-bit function $f(x_0,x_1)=x_0 \\oplus x_1$ such that \n",
    "\n",
    "   $f(0,0)=0$\n",
    "\n",
    "   $f(0,1)=1$\n",
    "\n",
    "   $f(1,0)=1$\n",
    "\n",
    "   $f(1,1)=0$\n",
    "\n",
    "The corresponding phase oracle of this two-bit oralce is $U_f \\lvert x_1, x_0 \\rangle = (-1)^{f(x_1, x_0)}\\lvert x \\rangle$\n",
    "\n",
    "We will now check if this oracle works as expected by taking a example state\n",
    "$$\\lvert \\psi_0 \\rangle = \\lvert 0 0 \\rangle_{01} \\otimes \\lvert 1 \\rangle_{2} $$\n",
    "\n",
    "1. The first register of two qubits is initialized to $|00\\rangle$ and the second register qubit to $|1\\rangle$ \n",
    "        \n",
    "   (Note that we are using subscripts 0, 1, and 2 to index the qubits. A subscript of \"01\" indicates the state of the register containing qubits 0 and 1)\n",
    "\n",
    "   $$\\lvert \\psi_0 \\rangle = \\lvert 0 0 \\rangle_{01} \\otimes \\lvert 1 \\rangle_{2} $$\n",
    "\n",
    "2. Apply Hadamard on all qubits\n",
    "   \n",
    "   $$\\lvert \\psi_1 \\rangle = \\frac{1}{2} \\left( \\lvert 0 0 \\rangle + \\lvert 0 1 \\rangle + \\lvert 1 0 \\rangle + \\lvert 1 1 \\rangle \\right)_{01} \\otimes \\frac{1}{\\sqrt{2}} \\left( \\lvert 0 \\rangle - \\lvert 1 \\rangle \\right)_{2}  $$\n",
    "\n",
    "3. The oracle function can be implemented as $\\text{Q}_f = CX_{02}CX_{12}$, \n",
    "   $$\n",
    "   \\begin{aligned}\n",
    "   \\lvert \\psi_2 \\rangle =  \\frac{1}{2\\sqrt{2}} \\left[ \\lvert 0 0 \\rangle_{01} \\otimes \\left( \\lvert 0 \\oplus 0 \\oplus 0 \\rangle - \\lvert 1 \\oplus 0 \\oplus 0 \\rangle \\right)_{2} \\\\\n",
    "       + \\lvert 0 1 \\rangle_{01} \\otimes \\left( \\lvert 0 \\oplus 0 \\oplus 1 \\rangle - \\lvert 1 \\oplus 0 \\oplus 1 \\rangle \\right)_{2} \\\\\n",
    "       + \\lvert 1 0 \\rangle_{01} \\otimes \\left( \\lvert 0 \\oplus 1 \\oplus 0 \\rangle - \\lvert 1 \\oplus 1 \\oplus 0 \\rangle \\right)_{2} \\\\\n",
    "       + \\lvert 1 1 \\rangle_{01} \\otimes \\left( \\lvert 0 \\oplus 1 \\oplus 1 \\rangle - \\lvert 1 \\oplus 1 \\oplus 1 \\rangle \\right)_{2} \\right]\n",
    "   \\end{aligned}\n",
    "   $$\n",
    "\n",
    "4. Simplifying this, we get the following: \n",
    "   $$\n",
    "   \\begin{aligned}\n",
    "   \\lvert \\psi_2 \\rangle & = \\frac{1}{2\\sqrt{2}} \\left[ \\lvert 0 0 \\rangle_{01} \\otimes \\left( \\lvert 0 \\rangle - \\lvert 1 \\rangle \\right)_{2} - \\lvert 0 1 \\rangle_{01} \\otimes \\left( \\lvert 0 \\rangle - \\lvert  1 \\rangle \\right)_{2} - \\lvert 1 0 \\rangle_{01} \\otimes \\left( \\lvert 0  \\rangle - \\lvert 1 \\rangle \\right)_{2} + \\lvert 1 1 \\rangle_{01} \\otimes \\left( \\lvert 0 \\rangle - \\lvert 1 \\rangle \\right)_{2}  \\right] \\\\\n",
    "       & = \\frac{1}{2} \\left( \\lvert 0 0 \\rangle - \\lvert 0 1 \\rangle - \\lvert 1 0 \\rangle + \\lvert 1 1 \\rangle \\right)_{01} \\otimes \\frac{1}{\\sqrt{2}} \\left( \\lvert 0 \\rangle - \\lvert 1 \\rangle \\right)_{2} \\\\\n",
    "       & = \\frac{1}{\\sqrt{2}} \\left( \\lvert 0 \\rangle - \\lvert 1 \\rangle \\right)_{0} \\otimes \\frac{1}{\\sqrt{2}} \\left( \\lvert 0 \\rangle - \\lvert 1 \\rangle \\right)_{1} \\otimes \\frac{1}{\\sqrt{2}} \\left( \\lvert 0 \\rangle - \\lvert 1 \\rangle \\right)_{2}\n",
    "   \\end{aligned}\n",
    "   $$\n",
    "\n",
    "5. Apply Hadamard on the first register\n",
    "   \n",
    "   $$ \\lvert \\psi_3\\rangle = \\lvert 1 \\rangle_{0} \\otimes \\lvert 1 \\rangle_{1} \\otimes \\left( \\lvert 0 \\rangle - \\lvert 1 \\rangle \\right)_{2} $$\n",
    "\n",
    "6. Measuring the first two qubits will give the non-zero $11$, indicating a balanced function."
   ]
  },
  {
   "cell_type": "markdown",
   "id": "72bcabeb-be88-49cf-8483-8c96fb2d3a09",
   "metadata": {},
   "source": [
    "## 2. Qiskit Implementation\n",
    "\n",
    "Now, we are ready to move onto the implementation of the DJ Algorithm using Qiskit 1.0 "
   ]
  },
  {
   "cell_type": "markdown",
   "id": "3cef633c-295c-4dc7-b4eb-c481bc452b01",
   "metadata": {},
   "source": [
    "### 2.1 Environment Setup\n",
    "We have already provided the installs for you in the next few cells. Simply find the cells that match your environment and run *only that cell.*"
   ]
  },
  {
   "cell_type": "code",
   "execution_count": null,
   "id": "6b5d4d5f-b241-411d-b698-2bfc9b9da5be",
   "metadata": {},
   "outputs": [],
   "source": [
    "### Install Qiskit: Cloud-based Environment(Google Colab/qBraid) ###\n",
    "!pip install qiskit[visualization]==1.0.2"
   ]
  },
  {
   "cell_type": "code",
   "execution_count": null,
   "id": "d6a6b888-2dca-460d-8e8e-1b20410a19fc",
   "metadata": {},
   "outputs": [],
   "source": [
    "### Install Qiskit: Locally on a PC ###\n",
    "%pip install qiskit[visualization]==1.0.2"
   ]
  },
  {
   "cell_type": "code",
   "execution_count": null,
   "id": "05627fba-531c-454d-bacb-6c80881ac232",
   "metadata": {},
   "outputs": [],
   "source": [
    "### Install Qiskit: Locally on a Mac or Linux ###\n",
    "%pip install 'qiskit[visualization]'==1.0.2"
   ]
  },
  {
   "cell_type": "markdown",
   "id": "f51dab33-53d7-424f-b160-38d124929577",
   "metadata": {},
   "source": [
    "\n",
    "Now, let's test to make sure everything is working properly. We've provided some very basic Qiskit code for you in the following cell. This code will create a quantum circuit, apply a single gate, and then draw that circuit. Run the cell below to make sure your system is set up properly."
   ]
  },
  {
   "cell_type": "code",
   "execution_count": 1,
   "id": "addbe13c-76f3-4488-85a5-2a924e88e688",
   "metadata": {},
   "outputs": [
    {
     "data": {
      "image/png": "[encoded data removed]",
      "text/plain": [
       "<Figure size 185.453x117.056 with 1 Axes>"
      ]
     },
     "execution_count": 1,
     "metadata": {},
     "output_type": "execute_result"
    }
   ],
   "source": [
    "from qiskit import QuantumCircuit\n",
    "\n",
    "# Create a new circuit with a single qubit\n",
    "qc = QuantumCircuit(1)\n",
    "\n",
    "# Add a Not gate to qubit 0\n",
    "qc.x(0)\n",
    "\n",
    "# Return a drawing of the circuit using matplotlib (\"mpl\"). This is the\n",
    "# last line of the cell, so the drawing appears in the cell output.\n",
    "qc.draw(\"mpl\")"
   ]
  },
  {
   "cell_type": "markdown",
   "id": "e7e27c75-7db9-4413-8622-389dad0f1bc0",
   "metadata": {},
   "source": [
    "Did everything work as expected? If so, you're just about finished with this step. The last part is to install the other required packages you will need."
   ]
  },
  {
   "cell_type": "code",
   "execution_count": null,
   "id": "92aa7e26-37e2-4994-9f77-63dcce4dbfaa",
   "metadata": {},
   "outputs": [],
   "source": [
    "# Install required packages\n",
    "%pip install qiskit_aer\n",
    "%pip install qiskit_ibm_runtime\n",
    "%pip install matplotlib\n",
    "%pip install pylatexenc\n",
    "%pip install qiskit-transpiler-service"
   ]
  },
  {
   "cell_type": "code",
   "execution_count": 2,
   "id": "1e726f9d-71d8-44b4-b529-1bfbf26cc416",
   "metadata": {},
   "outputs": [
    {
     "data": {
      "text/plain": [
       "'1.0.2'"
      ]
     },
     "execution_count": 2,
     "metadata": {},
     "output_type": "execute_result"
    }
   ],
   "source": [
    "### CHECK QISKIT VERSION\n",
    "import qiskit\n",
    "qiskit.__version__"
   ]
  },
  {
   "cell_type": "code",
   "execution_count": null,
   "id": "d5003b1d-ef5b-4737-a956-e9bccf43a255",
   "metadata": {},
   "outputs": [],
   "source": [
    "### CHECK OTHER DEPENDENCIES\n",
    "%pip show pylatexenc matplotlib "
   ]
  },
  {
   "cell_type": "markdown",
   "id": "6ade7189-2334-47e4-b9e4-ad7bb4eb6474",
   "metadata": {},
   "source": [
    "Other common issues could be solved by the following:\n",
    "\n",
    "*   If you aren't seeing any output, make sure you've run each code cell.\n",
    "*   Try restarting your kernel. How you do this varies by the environment you're using.\n",
    "\n",
    "If you're still running into problems, check out this [Coding with Qiskit](https://www.youtube.com/watch?v=dZWz4Gs_BuI) video for additional tips, or explore [the documentation](https://docs.quantum.ibm.com/start/install) for help."
   ]
  },
  {
   "cell_type": "markdown",
   "id": "19f4c88b-8c44-4857-85a4-4c6a44873424",
   "metadata": {},
   "source": [
    "### 2.2. Creating Oracles"
   ]
  },
  {
   "cell_type": "markdown",
   "id": "c0b6a5ed-f888-47c9-9508-f0d354182860",
   "metadata": {},
   "source": [
    "Lets start with the imports:"
   ]
  },
  {
   "cell_type": "code",
   "execution_count": 3,
   "id": "81a4c3fd-11b0-48dd-b0a7-ecc756fa941c",
   "metadata": {},
   "outputs": [],
   "source": [
    "# imports\n",
    "import matplotlib.pyplot as plt\n",
    "from qiskit import QuantumCircuit\n",
    "from qiskit.visualization import plot_histogram\n",
    "from qiskit_aer import AerSimulator\n",
    "import numpy as np"
   ]
  },
  {
   "cell_type": "markdown",
   "id": "084b7f07-cf5a-452a-bc39-809c1325ee46",
   "metadata": {},
   "source": [
    "### 2.3 Creating Quantum Oracles\n",
    "\n",
    "Let's explore different ways to create a quantum oracle.\n",
    "\n",
    "#### Constant Function\n",
    "\n",
    "For a constant function, the approach is straightforward:\n",
    "\n",
    "1. If \\(f(x) = 0\\), apply the $I$ gate to the qubit in register 2.\n",
    "2. If \\(f(x) = 1\\), apply the $X$ gate to the qubit in register 2.\n",
    "\n",
    "#### Balanced Function\n",
    "\n",
    "To create a balanced function, we can guarantee balance by performing a CNOT for each qubit in register 1, with the qubit in register 2 as the target. For example:\n",
    "\n",
    "**Balanced Circuit**\n",
    "<img src=\"../images/deutsch_balanced1.svg\" alt=\"Balanced Circuit\">\n",
    "\n",
    "\n",
    "In the circuit above, the top three qubits form the input register, and the bottom qubit is the output register. The corresponding input states and their respective outputs are shown in the table below:\n",
    "\n",
    "| Input states that output 0 | Input states that output 1 |\n",
    "|:--------------------------:|:--------------------------:|\n",
    "|             000            |             001            |\n",
    "|             011            |             100            |\n",
    "|             101            |             010            |\n",
    "|             110            |             111            |\n",
    "\n",
    "We can modify the results while maintaining balance by wrapping selected controls in X-gates. For example, consider the following circuit and its results table:\n",
    "\n",
    "**Modified Balanced Circuit**\n",
    "\n",
    "<img src=\"../images/deutsch_balanced2.svg\" alt=\"Modified Balanced Circuit\">\n",
    "\n",
    "\n",
    "| Input states that output 0 | Input states that output 1 |\n",
    "|:--------------------------:|:--------------------------:|\n",
    "|             001            |             000            |\n",
    "|             010            |             011            |\n",
    "|             100            |             101            |\n",
    "|             111            |             110            |\n"
   ]
  },
  {
   "cell_type": "markdown",
   "id": "7b2ea00e-bc89-4651-93ea-024697925952",
   "metadata": {},
   "source": [
    "<div class=\"alert alert-block alert-success\">\n",
    "\n",
    "**Task 1: Create a constant oracle**\n",
    "\n",
    "Complete the function constant_oracle(), which takes n as the size of the input register.\n",
    "\n",
    "**Hint**: First decide what the fixed output of the oracle will be either always 0 or always 1)\n",
    "</div>"
   ]
  },
  {
   "cell_type": "code",
   "execution_count": 8,
   "id": "d5e8d55a-35da-4376-8b55-dbe9e459b53c",
   "metadata": {},
   "outputs": [],
   "source": [
    "def append_constant_oracle(qc, n): \n",
    "    qc.barrier()   \n",
    "    ### Write your code below here ###\n",
    "    qc.barrier()\n",
    "    output = np.random.randint(2)\n",
    "    if output == 1:\n",
    "        qc.x(n)\n",
    "        \n",
    "    ### Don't change any code past this line ###\n",
    "    qc.barrier()"
   ]
  },
  {
   "cell_type": "markdown",
   "id": "dc6dee74-edd6-40c0-9136-0ee568adef93",
   "metadata": {},
   "source": [
    "<div class=\"alert alert-block alert-success\">\n",
    "\n",
    "**Task 2: Create a balanced oracle**\n",
    "\n",
    "Complete the function balanced_oracle(), which takes n as the size of the input register. Also, generate a random binary string, b_str. For each qubit in the circuit, place an X-gate if the corresponding digit in b_str is 1, or do nothing if the digit is 0.\n",
    "</div>"
   ]
  },
  {
   "cell_type": "code",
   "execution_count": 4,
   "id": "947494da-cb20-47e3-8ee4-40237b1584e3",
   "metadata": {},
   "outputs": [],
   "source": [
    "def append_balanced_oracle(qc,n):\n",
    "    qc.barrier() \n",
    "    ### Write your code below here ###\n",
    "    # First, we choose a binary string of length 'n' that will be the input to the oracle:\n",
    "    b = np.random.randint(1,2**n)\n",
    "    # Next, format 'b' as a binary string of length 'n', padded with zeros:\n",
    "    b_str = format(b, '0'+str(n)+'b')\n",
    "    # Next, we place the first X-gates. Each digit in our binary string \n",
    "    # corresponds to a qubit, if the digit is 0, we do nothing, if it's 1\n",
    "    # we apply an X-gate to that qubit:\n",
    "    qc.barrier()\n",
    "    for qubit in range(len(b_str)):\n",
    "        if b_str[qubit] == '1':\n",
    "            qc.x(qubit)\n",
    "    # Do the controlled-NOT gates for each qubit, using the output qubit \n",
    "    # as the target:\n",
    "    qc.barrier()\n",
    "    for qubit in range(n):\n",
    "        qc.cx(qubit, n)\n",
    "    qc.barrier()\n",
    "    # Next, place the final X-gates\n",
    "    for qubit in range(len(b_str)):\n",
    "        if b_str[qubit] == '1':\n",
    "            qc.x(qubit)\n",
    "    \n",
    "    ### Don't change any code past this line ###\n",
    "    qc.barrier()"
   ]
  },
  {
   "cell_type": "markdown",
   "id": "75bb4e2a-fd95-4563-85b6-8c832e744656",
   "metadata": {},
   "source": [
    "### 2.4 . Implement the algorithm \n",
    "\n",
    "<div class=\"alert alert-block alert-success\">\n",
    "\n",
    "**Task 3**: Now that the oracle functions are ready, we are all set to implement the algorithm! Complete the function `dj_algorithm()`, which takes the oracle we have just created(balanced/constant), and the size of input register, n as parameters. \n",
    "\n",
    "**Hint**: You may follow the steps given under the heading 1.3 Quantum Solution to finish this task.\n",
    "</div>"
   ]
  },
  {
   "cell_type": "code",
   "execution_count": 5,
   "id": "a13ec14c-ae7c-4932-910f-47a4ad5f7c25",
   "metadata": {},
   "outputs": [],
   "source": [
    "def dj_algorithm(oracle, n):\n",
    "    ### Write your code below here ###\n",
    "    \n",
    "    dj_circuit = QuantumCircuit(n+1, n)\n",
    "    # Set up the output qubit to |->:\n",
    "    dj_circuit.x(n)\n",
    "    dj_circuit.h(n)\n",
    "    # And set up the input register:\n",
    "    for qubit in range(n):\n",
    "        dj_circuit.h(qubit)\n",
    "    # Let's append the oracle gate to our circuit:\n",
    "    if oracle==\"balanced\":\n",
    "        append_balanced_oracle(dj_circuit,n)\n",
    "    elif oracle==\"constant\":\n",
    "        append_constant_oracle(dj_circuit,n)\n",
    "    # Finally, perform the H-gates again and measure:\n",
    "    for qubit in range(n):\n",
    "        dj_circuit.h(qubit)    \n",
    "    for i in range(n):\n",
    "        dj_circuit.measure(i, i)\n",
    "        \n",
    "    ### Don't change any code past this line ###\n",
    "    return dj_circuit"
   ]
  },
  {
   "cell_type": "markdown",
   "id": "16a9e56f-4a5a-450a-901f-9a1dc175a53d",
   "metadata": {},
   "source": [
    "Lets see what our circuits looks like, for n=4:"
   ]
  },
  {
   "cell_type": "code",
   "execution_count": 6,
   "id": "323124ad-c5f2-4903-8260-51ae88068aa9",
   "metadata": {},
   "outputs": [
    {
     "data": {
      "image/png": "[encoded data removed]",
      "text/plain": [
       "<Figure size 1625.27x535.111 with 1 Axes>"
      ]
     },
     "execution_count": 6,
     "metadata": {},
     "output_type": "execute_result"
    }
   ],
   "source": [
    "n = 4\n",
    "dj_balanced_circuit = dj_algorithm(\"balanced\",n)\n",
    "dj_balanced_circuit.draw(output='mpl')"
   ]
  },
  {
   "cell_type": "code",
   "execution_count": 9,
   "id": "2cf00d08-3608-4572-b786-a3908f45157e",
   "metadata": {},
   "outputs": [
    {
     "data": {
      "image/png": "[encoded data removed]",
      "text/plain": [
       "<Figure size 1040x535.111 with 1 Axes>"
      ]
     },
     "execution_count": 9,
     "metadata": {},
     "output_type": "execute_result"
    }
   ],
   "source": [
    "n = 4\n",
    "dj_constant_circuit = dj_algorithm(\"constant\",n)\n",
    "dj_constant_circuit.draw(output='mpl')"
   ]
  },
  {
   "cell_type": "markdown",
   "id": "3e470f99-e02a-4611-94a5-51aed6386675",
   "metadata": {},
   "source": [
    "### 2.5 Executing our circuit\n",
    "Finally, we execute our circuits using Aer Simulator, and plot the histograms for both circuits."
   ]
  },
  {
   "cell_type": "markdown",
   "id": "96ad6ad4",
   "metadata": {},
   "source": [
    "<div class=\"alert alert-block alert-success\">\n",
    "\n",
    "**Task 4**: Complete the following code to test each of oracle about Aer Simulation Backend\n",
    "\n",
    "</div>"
   ]
  },
  {
   "cell_type": "code",
   "execution_count": 10,
   "id": "d4c292a6-75b6-4f5a-8e9c-7a3bb644f03c",
   "metadata": {},
   "outputs": [
    {
     "name": "stdout",
     "output_type": "stream",
     "text": [
      "Counts(ideal): {'1111': 1024}\n"
     ]
    },
    {
     "data": {
      "image/png": "[encoded data removed]",
      "text/plain": [
       "<Figure size 700x500 with 1 Axes>"
      ]
     },
     "execution_count": 10,
     "metadata": {},
     "output_type": "execute_result"
    }
   ],
   "source": [
    "aersim = AerSimulator()\n",
    "\n",
    "### Write your code below here ###\n",
    "\n",
    "result_ideal = aersim.run(dj_balanced_circuit).result()\n",
    "counts_ideal = result_ideal.get_counts(0)\n",
    "\n",
    "### Don't change any code past this line ###\n",
    "print('Counts(ideal):', counts_ideal) \n",
    "plot_histogram(counts_ideal)"
   ]
  },
  {
   "cell_type": "code",
   "execution_count": 11,
   "id": "8e35670c-d980-483f-8ebe-cf6d57f6f3fc",
   "metadata": {},
   "outputs": [
    {
     "name": "stdout",
     "output_type": "stream",
     "text": [
      "Counts(ideal): {'0000': 1024}\n"
     ]
    },
    {
     "data": {
      "image/png": "[encoded data removed]",
      "text/plain": [
       "<Figure size 700x500 with 1 Axes>"
      ]
     },
     "execution_count": 11,
     "metadata": {},
     "output_type": "execute_result"
    }
   ],
   "source": [
    "aersim = AerSimulator()\n",
    "\n",
    "### Write your code below here ###\n",
    "\n",
    "result_ideal = aersim.run(dj_constant_circuit).result()\n",
    "counts_ideal = result_ideal.get_counts(0)\n",
    "\n",
    "### Don't change any code past this line ###\n",
    "print('Counts(ideal):', counts_ideal) \n",
    "plot_histogram(counts_ideal)"
   ]
  },
  {
   "cell_type": "markdown",
   "id": "2633bfb9-da57-46af-a09a-d5866b78068b",
   "metadata": {},
   "source": [
    "**What insight can be drawn from your execution result?**\n",
    "\n",
    "As we can see from the results above, we are correctly able to predict whether our function is constant or balanced, with 100% certainty.  \n",
    "\n",
    "🎉 Congratulations on finishing your first quantum algorithm implementation. Thank you for completing this lab, and good luck with the remaining ones! Now, let's move on to the next level: **Grover's algoritm**"
   ]
  },
  {
   "cell_type": "markdown",
   "id": "32bd321c-f764-4f7c-b510-78031eba7b66",
   "metadata": {},
   "source": [
    "## References\n",
    "- David Deutsch & Richard Jozsa (1992). \"Rapid solutions of problems by quantum computation\". Proceedings of the Royal Society of London A. 439 (1907): 553–558. Bibcode:1992RSPSA.439..553D. CiteSeerX 10.1.1.655.5997. doi:10.1098/rspa.1992.0167. S2CID 121702767.\n",
    "- R. Cleve; A. Ekert; C. Macchiavello; M. Mosca (1998). \"Quantum algorithms revisited\". Proceedings of the Royal Society of London A. 454 (1969): 339–354. arXiv:quant-ph/9708016. Bibcode:1998RSPSA.454..339C. doi:10.1098/rspa.1998.0164. S2CID 16128238.\n",
    "- [Qiskit Textbook](https://github.com/Qiskit/textbook/blob/main/notebooks/ch-algorithms/deutsch-jozsa.ipynb)\n",
    "- [Coding with Qiskit](https://youtube.com/playlist?list=PLOFEBzvs-VvrgHZt3exM_NNiNKtZlHvZi&si=h_vsiB_Tufa1yUim)\n",
    "- [QBronze Notebook on Deustch-Jozsa](https://gitlab.com/qworld/nickel/-/blob/master/nickel/A04_Deutsch_Jozsa_Algorithm.ipynb?ref_type=heads)\n"
   ]
  },
  {
   "cell_type": "markdown",
   "id": "40f9ca8e-e7e9-4dcf-8e8f-fc9e31615968",
   "metadata": {},
   "source": [
    "### Additional Information\n",
    "**Contributed by:** Phalak Bhatnagar, Hoa Nguyen\n",
    "\n",
    "**Advised by:** Hoa Nguyen\n",
    "\n",
    "**Version**: 1.0.0"
   ]
  },
  {
   "cell_type": "markdown",
   "id": "b953bb3e",
   "metadata": {},
   "source": []
  }
 ],
 "metadata": {
  "kernelspec": {
   "display_name": "Python 3 (ipykernel)",
   "language": "python",
   "name": "python3"
  },
  "language_info": {
   "codemirror_mode": {
    "name": "ipython",
    "version": 3
   },
   "file_extension": ".py",
   "mimetype": "text/x-python",
   "name": "python",
   "nbconvert_exporter": "python",
   "pygments_lexer": "ipython3",
   "version": "3.11.7"
  }
 },
 "nbformat": 4,
 "nbformat_minor": 5
}
