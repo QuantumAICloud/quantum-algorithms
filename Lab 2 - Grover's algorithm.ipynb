{
 "cells": [
  {
   "cell_type": "markdown",
   "metadata": {},
   "source": [
    "# Table of Contents\n",
    "\n",
    "* [Grover's Algorithm Preview](#Grover's-Algorithm-Preview)\n",
    "  * [Grover's Algorithm: The Basic](#Basic)\n",
    "  * [What you need to know](#What-you-need-to-know)\n",
    "  * [Install Qikis & Check Versions](#Install-Check)\n",
    "* [Start](#start)\n",
    "  * [Running Grover's algorithm](#Running-Grover's-algorithm)\n",
    "    * [Using the different types of classes as the oracle of `Grover`](#different-types-of-classes)\n",
    "  * [Amplitude amplification](#Amplitude-amplification)\n",
    "    * [State preparation](#State-preparation)\n",
    "    * [Full flexibility](#Full-flexibility)\n",
    "  * [Dive into other arguments of `Grover`](#Arguments-of-`Grover`)\n",
    "    * [Specifying `good_state`](#Specifying-gs)\n",
    "    * [ The number of `iterations`](#N-interations)\n",
    "    * [Applying `post_processing`](#post_processing)\n",
    "* [Classical Problem Using Quantum Implement](#Classical-Problem-Implementation)\n",
    "  * [Back to Screening test](#screening-test)\n",
    "  * [The Implementation](#Implementation)\n",
    "  * [Practice](#Pra)\n",
    "* [Congratulations](#congrats)"
   ]
  },
  {
   "cell_type": "markdown",
   "metadata": {},
   "source": [
    "# Grover's Algorithm Preview <a name=\"Grover's-Algorithm-Preview\"></a>\n",
    "\n",
    "Grover's algorithm is one of the most famous quantum algorithms introduced by Lov Grover in 1996 \\[1\\]. It has initially been proposed for unstructured search problems, i.e. for finding a marked element in a unstructured database. \n",
    "\n",
    "However, Grover's algorithm is now a subroutine to several other algorithms, such as Grover Adaptive Search \\[2\\]. For the details of Grover's algorithm, please see [Grover's Algorithm](https://github.com/Qiskit/textbook/blob/main/notebooks/ch-algorithms/grover.ipynb) in the Qiskit textbook.\n",
    "\n",
    "When you work with Qiskit, they're already implements the Grover's algorithm in the `Grover` class in their library. This class also includes the **generalized version** which is what we will try to understand and implement in a few next subcodes.\n",
    "\n",
    "For more advanced Grover's version that `Grover` class also includes, **Amplitude Amplification** \\[3\\], allows setting individual iterations and other meta-settings to Grover's algorithm.\n",
    "\n",
    "**References:**\n",
    "\n",
    "\\[1\\]: L. K. Grover, A fast quantum mechanical algorithm for database search. Proceedings 28th Annual Symposium on\n",
    "the Theory of Computing (STOC) 1996, pp. 212-219. https://arxiv.org/abs/quant-ph/9605043\n",
    "\n",
    "\\[2\\]: A. Gilliam, S. Woerner, C. Gonciulea, Grover Adaptive Search for Constrained Polynomial Binary Optimization.\n",
    "https://arxiv.org/abs/1912.04088\n",
    "\n",
    "\n",
    "\\[3\\]: Brassard, G., Hoyer, P., Mosca, M., & Tapp, A. (2000). Quantum Amplitude Amplification and Estimation. http://arxiv.org/abs/quant-ph/0005055"
   ]
  },
  {
   "cell_type": "markdown",
   "metadata": {},
   "source": [
    "## Grover's Algorithm: The Basic <a name=\"Basic\"></a>"
   ]
  },
  {
   "cell_type": "markdown",
   "metadata": {},
   "source": [
    "Grover's algorithm uses the Grover operator $\\mathcal{Q}$ to amplify the amplitudes of the good states:\n",
    "\n",
    "$$\n",
    "    \\mathcal{Q} = \\mathcal{A}\\mathcal{S_0}\\mathcal{A}^\\dagger \\mathcal{S_f}\n",
    "$$\n",
    "\n",
    "Here,\n",
    "* $\\mathcal{A}$ is the initial search state for the algorithm, which is just Hadamards, $H^{\\otimes n}$ for the textbook Grover search, but can be more elaborate for Amplitude Amplification\n",
    "* $\\mathcal{S_0}$ is the reflection about the all 0 state\n",
    "$$\n",
    "    |x\\rangle \\mapsto \\begin{cases} -|x\\rangle, &x \\neq 0 \\\\ |x\\rangle, &x = 0\\end{cases}\n",
    "$$\n",
    "* $\\mathcal{S_f}$ is the oracle that applies\n",
    "$$\n",
    "    |x\\rangle \\mapsto (-1)^{f(x)}|x\\rangle\n",
    "$$\n",
    "&nbsp;&nbsp;&nbsp;&nbsp;　where $f(x)$ is 1 if $x$ is a good state and otherwise 0.\n",
    "\n",
    "In a nutshell, Grover's algorithm applies different powers of $\\mathcal{Q}$ and after each execution checks whether a good solution has been found."
   ]
  },
  {
   "cell_type": "markdown",
   "metadata": {},
   "source": [
    "## What you need to know <a name=\"What-you-need-to-know\"></a>\n",
    "\n",
    "In this mini project, I'll teaching you how to use the `grover` class which including **Generalized** and **Amplitude Amplification** version. To start with, you will need to know a little bit about the Python programming language. This jupyter file contains a mixture of tutorial content, pre-written code blocks, and challenge code blocks that require you to fill in your own `code`. To complete an exercise, you'll need to type the required code underneath each line that has the `## Write your code below here ##` comment."
   ]
  },
  {
   "cell_type": "markdown",
   "metadata": {},
   "source": [
    "### Example of a CHALLENGE CODE BLOCKS\n",
    "\n",
    "From a given a list of numbers, help me create 2 other lists based from that list, \"a\" containing odd numbers and \"b\" containing even numbers. "
   ]
  },
  {
   "cell_type": "code",
   "execution_count": null,
   "metadata": {},
   "outputs": [],
   "source": [
    "# given list of numbers\n",
    "numbers = [1, 2, 3, 4, 5, 6, 7, 8, 9]\n",
    "\n",
    "# create lists to store even and odd numbers\n",
    "a = []  # odd\n",
    "b = []  # even\n",
    "\n",
    "# iterate over the list and check if the number is even or odd\n",
    "for number in numbers:\n",
    "    ## Write your code below here ##\n",
    "        \n",
    "    \n",
    "        \n",
    "    ## Write your code above here ##    \n",
    "        b.append(number)  # add even number to list b\n",
    "    else:\n",
    "        a.append(number)  # add odd number to list a\n",
    "\n",
    "# print the lists\n",
    "print(\"Odd numbers:\", a)\n",
    "print(\"Even numbers:\", b)\n"
   ]
  },
  {
   "cell_type": "markdown",
   "metadata": {},
   "source": [
    "Your result should look like this:\n",
    "\n",
    "`Odd numbers: [1, 3, 5, 7, 9]`\n",
    "\n",
    "`Even numbers: [2, 4, 6, 8]`"
   ]
  },
  {
   "cell_type": "markdown",
   "metadata": {},
   "source": [
    "It's important to note that you should **run each code cell**, even if you didn't write any new code there. This ensures that when you submit your answers later on, everything is up to date. There will be one or two exceptions to this rule, depending on what type of computer you are using."
   ]
  },
  {
   "cell_type": "markdown",
   "metadata": {},
   "source": [
    "## Install Qikis & Check Versions <a name=\"Install-Check\"></a>\n",
    "\n",
    "If you are already have these requirements, please skip these under code blocks:\n",
    "* Python 3.10 - 3.11\n",
    "* qiskit 1.0.2 +\n",
    "* qiskit_algorithms 0.3.0\n",
    "\n",
    "**Remember, if you need to reinstall any packages, restart your kernel (or runtime) first.**"
   ]
  },
  {
   "cell_type": "code",
   "execution_count": null,
   "metadata": {},
   "outputs": [],
   "source": [
    "### CHECK PYTHON VERSION \n",
    "import sys\n",
    "print(sys.version)"
   ]
  },
  {
   "cell_type": "code",
   "execution_count": null,
   "metadata": {},
   "outputs": [],
   "source": [
    "### INSTALL QISKIT: Change %pip into !pip if you are using Cloud-based environment (Google Colab)###\n",
    "%pip install qiskit[visualization]==1.1.0\n",
    "#  !pip install qiskit[visualization]==1.1.0"
   ]
  },
  {
   "cell_type": "code",
   "execution_count": null,
   "metadata": {},
   "outputs": [],
   "source": [
    "### Install the other required packages as well\n",
    "\n",
    "%pip install qiskit_aer\n",
    "%pip install qiskit_ibm_runtime\n",
    "%pip install matplotlib\n",
    "%pip install pylatexenc\n",
    "%pip install qiskit-transpiler-service\n",
    "%pip install qiskit_algorithms\n",
    "%pip install tweedledum"
   ]
  },
  {
   "cell_type": "code",
   "execution_count": null,
   "metadata": {},
   "outputs": [],
   "source": [
    "### CHECK QISKIT VERSION\n",
    "import qiskit\n",
    "qiskit.__version__"
   ]
  },
  {
   "cell_type": "code",
   "execution_count": 2,
   "metadata": {},
   "outputs": [
    {
     "data": {
      "text/plain": [
       "'0.3.0'"
      ]
     },
     "execution_count": 2,
     "metadata": {},
     "output_type": "execute_result"
    }
   ],
   "source": [
    "import qiskit_algorithms\n",
    "qiskit_algorithms.__version__"
   ]
  },
  {
   "cell_type": "code",
   "execution_count": null,
   "metadata": {},
   "outputs": [],
   "source": [
    "### CHECK OTHER DEPENDENCIES\n",
    "%pip show pylatexenc matplotlib"
   ]
  },
  {
   "cell_type": "markdown",
   "metadata": {},
   "source": [
    "And you are ready for the next step ^^"
   ]
  },
  {
   "cell_type": "markdown",
   "metadata": {},
   "source": [
    "# Start <a name=\"start\"></a>"
   ]
  },
  {
   "cell_type": "markdown",
   "metadata": {},
   "source": [
    "## Running Grover's algorithm <a name=\"Running-Grover's-algorithm\"></a>\n",
    "\n",
    "To run Grover's algorithm with the `Grover` class, firstly, we need to specify an oracle for the circuit of Grover's algorithm. In the following example, we use `QuantumCircuit` as the oracle of Grover's algorithm. However, there are several other class that we can use as the oracle of Grover's algorithm. We talk about them later in this tutorial.\n",
    "\n",
    "Note that the oracle for `Grover` must be a _phase-flip_ oracle. That is, it multiplies the amplitudes of the of \"good states\" by a factor of $-1$. We explain later how to convert a _bit-flip_ oracle to a phase-flip oracle."
   ]
  },
  {
   "cell_type": "code",
   "execution_count": 8,
   "metadata": {},
   "outputs": [
    {
     "data": {
      "image/png": "[encoded data removed]",
      "text/plain": [
       "<Figure size 843.845x200.667 with 1 Axes>"
      ]
     },
     "execution_count": 8,
     "metadata": {},
     "output_type": "execute_result"
    }
   ],
   "source": [
    "from qiskit import QuantumCircuit\n",
    "from qiskit_algorithms import AmplificationProblem\n",
    "\n",
    "# the state we desire to find is '11'\n",
    "good_state = ['11']\n",
    "\n",
    "# specify the oracle that marks the state '11' as a good solution\n",
    "oracle = QuantumCircuit(2)\n",
    "oracle.cz(0, 1)\n",
    "\n",
    "# define Grover's algorithm\n",
    "problem = AmplificationProblem(oracle, is_good_state=good_state)\n",
    "\n",
    "# now we can have a look at the Grover operator that is used in running the algorithm\n",
    "# (Algorithm circuits are wrapped in a gate to appear in composition as a block\n",
    "# so we have to decompose() the op to see it expanded into its component gates.)\n",
    "problem.grover_operator.decompose().draw(output='mpl')"
   ]
  },
  {
   "cell_type": "markdown",
   "metadata": {},
   "source": [
    "Then, we specify a backend and call the `run` method of `Grover` with a backend to execute the circuits. The returned result type is a `GroverResult`. \n",
    "\n",
    "If the search was successful, the `oracle_evaluation` attribute of the result will be `True`. In this case, the most sampled measurement, `top_measurement`, is one of the \"good states\". Otherwise, `oracle_evaluation` will be False."
   ]
  },
  {
   "cell_type": "code",
   "execution_count": 10,
   "metadata": {},
   "outputs": [
    {
     "name": "stdout",
     "output_type": "stream",
     "text": [
      "Result type: <class 'qiskit_algorithms.amplitude_amplifiers.grover.GroverResult'>\n",
      "\n",
      "Success!\n",
      "Top measurement: 11\n"
     ]
    }
   ],
   "source": [
    "from qiskit_algorithms import Grover\n",
    "from qiskit.primitives import Sampler\n",
    "\n",
    "\n",
    "grover = Grover(sampler=Sampler())\n",
    "result = grover.amplify(problem)\n",
    "print('Result type:', type(result))\n",
    "print()\n",
    "print('Success!' if result.oracle_evaluation else 'Failure!')\n",
    "print('Top measurement:', result.top_measurement)"
   ]
  },
  {
   "cell_type": "markdown",
   "metadata": {},
   "source": [
    "In the example, the result of `top_measurement` is `11` which is one of \"good state\". Thus, we succeeded to find the answer by using `Grover`."
   ]
  },
  {
   "cell_type": "markdown",
   "metadata": {},
   "source": [
    "### Using the different types of classes as the oracle of `Grover` <a name=\"different-types-of-classes\"></a>\n",
    "In the above example, we used `QuantumCircuit` as the oracle of `Grover`. \n",
    "However, we can also use `qiskit.quantum_info.Statevector` as oracle.\n",
    "All the following examples are when $|11\\rangle$ is \"good state\""
   ]
  },
  {
   "cell_type": "code",
   "execution_count": 11,
   "metadata": {},
   "outputs": [
    {
     "name": "stdout",
     "output_type": "stream",
     "text": [
      "Result type: <class 'qiskit_algorithms.amplitude_amplifiers.grover.GroverResult'>\n",
      "\n",
      "Success!\n",
      "Top measurement: 11\n"
     ]
    }
   ],
   "source": [
    "from qiskit.quantum_info import Statevector\n",
    "oracle = Statevector.from_label('11')\n",
    "problem = AmplificationProblem(oracle, is_good_state=['11'])\n",
    "\n",
    "grover = Grover(sampler=Sampler())\n",
    "result = grover.amplify(problem)\n",
    "print('Result type:', type(result))\n",
    "print()\n",
    "print('Success!' if result.oracle_evaluation else 'Failure!')\n",
    "print('Top measurement:', result.top_measurement)"
   ]
  },
  {
   "cell_type": "markdown",
   "metadata": {},
   "source": [
    "Internally, the statevector is mapped to a quantum circuit:"
   ]
  },
  {
   "cell_type": "code",
   "execution_count": 12,
   "metadata": {},
   "outputs": [
    {
     "data": {
      "image/png": "[encoded data removed]",
      "text/plain": [
       "<Figure size 287.294x200.667 with 1 Axes>"
      ]
     },
     "execution_count": 12,
     "metadata": {},
     "output_type": "execute_result"
    }
   ],
   "source": [
    "problem.grover_operator.oracle.decompose().draw(output='mpl')"
   ]
  },
  {
   "cell_type": "markdown",
   "metadata": {},
   "source": [
    "Qiskit allows for an easy construction of more complex oracles:\n",
    "* `PhaseOracle`: for parsing logical expressions such as `'~a | b'`. This is especially useful for solving 3-SAT problems and is shown in the accompanying [Grover Examples](07_grover_examples.ipynb) tutorial.\n",
    "\n",
    "Here we'll use the `PhaseOracle` for the simple example of finding the state $|11\\rangle$, which corresponds to `'a & b'`."
   ]
  },
  {
   "cell_type": "code",
   "execution_count": 13,
   "metadata": {},
   "outputs": [
    {
     "name": "stdout",
     "output_type": "stream",
     "text": [
      "\"The 'tweedledum' library is required to use 'PhaseOracle'. You can install it with 'pip install tweedledum'.\"\n"
     ]
    }
   ],
   "source": [
    "from qiskit.circuit.library.phase_oracle import PhaseOracle\n",
    "from qiskit.exceptions import MissingOptionalLibraryError\n",
    "\n",
    "# `Oracle` (`PhaseOracle`) as the `oracle` argument\n",
    "expression = '(a & b)'\n",
    "try:\n",
    "    oracle = PhaseOracle(expression)\n",
    "    problem = AmplificationProblem(oracle)\n",
    "    display(problem.grover_operator.oracle.decompose().draw(output='mpl'))\n",
    "except MissingOptionalLibraryError as ex:\n",
    "    print(ex)"
   ]
  },
  {
   "cell_type": "markdown",
   "metadata": {},
   "source": [
    "Which we observe that this oracle implements a phase flip when the state is  $|11\\rangle$\n",
    "\n",
    "As mentioned above, Grover's algorithm requires a _phase-flip_ oracle. A bit-flip oracle flips the state of an auxiliary qubit if the other qubits satisfy the condition. To use these types of oracles with Grover's we need to convert the bit-flip oracle to a phase-flip oracle by sandwiching the auxiliary qubit of the bit-flip oracle by $X$ and $H$ gates.\n",
    "\n",
    "**Note:** This transformation from a bit-flip to a phase-flip oracle holds generally and you can use this to convert your oracle to the right representation."
   ]
  },
  {
   "cell_type": "markdown",
   "metadata": {},
   "source": [
    "## Amplitude amplification <a name=\"Amplitude-amplification\"></a>\n",
    "Grover's algorithm uses Hadamard gates to create the uniform superposition of all the states at the beginning of the Grover operator $\\mathcal{Q}$. If some information on the good states is available, it might be useful to not start in a uniform superposition but only initialize specific states. This, generalized, version of Grover's algorithm is referred to _Amplitude Amplification_.\n",
    "\n",
    "In Qiskit, the initial superposition state can easily be adjusted by setting the `state_preparation` argument."
   ]
  },
  {
   "cell_type": "markdown",
   "metadata": {},
   "source": [
    "### State preparation <a name=\"State-preparation\"></a>\n",
    "\n",
    "A `state_preparation` argument is used to specify a quantum circuit that prepares a quantum state for the start point of the amplitude amplification.\n",
    "By default, a circuit with $H^{\\otimes n}$ is used to prepare uniform superposition (so it will be Grover's search). The diffusion circuit of the amplitude amplification reflects `state_preparation` automatically."
   ]
  },
  {
   "cell_type": "code",
   "execution_count": 14,
   "metadata": {},
   "outputs": [
    {
     "name": "stdout",
     "output_type": "stream",
     "text": [
      "state preparation circuit:\n"
     ]
    },
    {
     "data": {
      "image/png": "[encoded data removed]",
      "text/plain": [
       "<Figure size 371.107x284.278 with 1 Axes>"
      ]
     },
     "execution_count": 14,
     "metadata": {},
     "output_type": "execute_result"
    }
   ],
   "source": [
    "import numpy as np\n",
    "\n",
    "# Specifying `state_preparation` \n",
    "# to prepare a superposition of |01>, |10>, and |11>\n",
    "oracle = QuantumCircuit(3)\n",
    "oracle.ccz(0, 1, 2)\n",
    "\n",
    "theta = 2 * np.arccos(1 / np.sqrt(3))\n",
    "state_preparation = QuantumCircuit(3)\n",
    "state_preparation.ry(theta, 0)\n",
    "state_preparation.ch(0,1)\n",
    "state_preparation.x(1)\n",
    "state_preparation.h(2)\n",
    "\n",
    "# we only care about the first two bits being in state 1, thus add both possibilities for the last qubit\n",
    "problem = AmplificationProblem(oracle, state_preparation=state_preparation, is_good_state=['110', '111'])\n",
    "\n",
    "# state_preparation\n",
    "print('state preparation circuit:')\n",
    "problem.grover_operator.state_preparation.draw(output='mpl')"
   ]
  },
  {
   "cell_type": "code",
   "execution_count": 16,
   "metadata": {},
   "outputs": [
    {
     "name": "stdout",
     "output_type": "stream",
     "text": [
      "Success!\n",
      "Top measurement: 111\n"
     ]
    }
   ],
   "source": [
    "grover = Grover(sampler=Sampler())\n",
    "result = grover.amplify(problem)\n",
    "print('Success!' if result.oracle_evaluation else 'Failure!')\n",
    "print('Top measurement:', result.top_measurement)"
   ]
  },
  {
   "cell_type": "markdown",
   "metadata": {},
   "source": [
    "### Full flexibility <a name=\"Full-flexibility\"></a>\n",
    "\n",
    "For more advanced use, it is also possible to specify the entire Grover operator by setting the `grover_operator` argument. This might be useful if you know more efficient implementation for $\\mathcal{Q}$ than the default construction via zero reflection, oracle and state preparation.\n",
    "\n",
    "The `qiskit.circuit.library.GroverOperator` can be a good starting point and offers more options for an automated construction of the Grover operator. You can for instance \n",
    "* set the `mcx_mode` \n",
    "* ignore qubits in the zero reflection by setting `reflection_qubits`\n",
    "* explicitly exchange the $\\mathcal{S_f}, \\mathcal{S_0}$ and $\\mathcal{A}$ operations using the `oracle`, `zero_reflection` and `state_preparation` arguments"
   ]
  },
  {
   "cell_type": "markdown",
   "metadata": {},
   "source": [
    "For instance, imagine the good state is a three qubit state $|111\\rangle$ but we used 2 additional qubits as auxiliary qubits. "
   ]
  },
  {
   "cell_type": "code",
   "execution_count": 18,
   "metadata": {},
   "outputs": [
    {
     "data": {
      "image/png": "[encoded data removed]",
      "text/plain": [
       "<Figure size 203.885x451.5 with 1 Axes>"
      ]
     },
     "execution_count": 18,
     "metadata": {},
     "output_type": "execute_result"
    }
   ],
   "source": [
    "oracle = QuantumCircuit(5)\n",
    "oracle.ccz(0, 1, 2)\n",
    "oracle.draw(output='mpl')"
   ]
  },
  {
   "cell_type": "markdown",
   "metadata": {},
   "source": [
    "Then, per default, the Grover operator implements the zero reflection on all five qubits."
   ]
  },
  {
   "cell_type": "code",
   "execution_count": null,
   "metadata": {},
   "outputs": [],
   "source": [
    "from qiskit.circuit.library import GroverOperator\n",
    "grover_op = GroverOperator(oracle, insert_barriers=True)\n",
    "grover_op.decompose().draw(output='mpl')"
   ]
  },
  {
   "cell_type": "markdown",
   "metadata": {},
   "source": [
    "But we know that we only need to consider the first three:"
   ]
  },
  {
   "cell_type": "code",
   "execution_count": null,
   "metadata": {},
   "outputs": [],
   "source": [
    "grover_op = GroverOperator(oracle, reflection_qubits=[0, 1, 2], insert_barriers=True)\n",
    "grover_op.decompose().draw(output='mpl')"
   ]
  },
  {
   "cell_type": "markdown",
   "metadata": {},
   "source": [
    "## Dive into other arguments of `Grover` <a name=\"Arguments-of-`Grover\"></a>\n",
    "`Grover` has arguments other than `oracle` and `state_preparation`. We will explain them in this section.\n"
   ]
  },
  {
   "cell_type": "markdown",
   "metadata": {},
   "source": [
    "\n",
    "### Specifying `good_state` <a name=\"Specifying-gs\"></a>\n",
    "`good_state` is used to check whether the measurement result is correct or not internally. It can be a list of binary strings, a list of integer, `Statevector`, and Callable. If the input is a list of bitstrings, each bitstrings in the list represents a good state. If the input is a list of integer, each integer represent the index of the good state to be $|1\\rangle$. If it is a `Statevector`, it represents a superposition of all good states.\n"
   ]
  },
  {
   "cell_type": "code",
   "execution_count": null,
   "metadata": {},
   "outputs": [],
   "source": [
    "# a list of binary strings good state\n",
    "oracle = QuantumCircuit(2)\n",
    "oracle.cz(0, 1)\n",
    "good_state = ['11', '00']\n",
    "problem = AmplificationProblem(oracle, is_good_state=good_state)\n",
    "print(problem.is_good_state('11'))"
   ]
  },
  {
   "cell_type": "code",
   "execution_count": null,
   "metadata": {},
   "outputs": [],
   "source": [
    "# a list of integer good state\n",
    "oracle = QuantumCircuit(2)\n",
    "oracle.cz(0, 1)\n",
    "good_state = [0, 1]\n",
    "problem = AmplificationProblem(oracle, is_good_state=good_state)\n",
    "print(problem.is_good_state('11'))"
   ]
  },
  {
   "cell_type": "code",
   "execution_count": null,
   "metadata": {},
   "outputs": [],
   "source": [
    "from qiskit.quantum_info import Statevector\n",
    "\n",
    "# `Statevector` good state\n",
    "oracle = QuantumCircuit(2)\n",
    "oracle.cz(0, 1)\n",
    "good_state = Statevector.from_label('11')\n",
    "problem = AmplificationProblem(oracle, is_good_state=good_state)\n",
    "print(problem.is_good_state('11'))"
   ]
  },
  {
   "cell_type": "code",
   "execution_count": null,
   "metadata": {},
   "outputs": [],
   "source": [
    "# Callable good state\n",
    "def callable_good_state(bitstr):\n",
    "    if bitstr == \"11\":\n",
    "        return True\n",
    "    return False\n",
    "\n",
    "oracle = QuantumCircuit(2)\n",
    "oracle.cz(0, 1)\n",
    "problem = AmplificationProblem(oracle, is_good_state=good_state)\n",
    "print(problem.is_good_state('11'))"
   ]
  },
  {
   "cell_type": "markdown",
   "metadata": {},
   "source": [
    "### The number of `iterations` <a name=\"N-interations\"></a>\n",
    "\n",
    "The number of repetition of applying the Grover operator is important to obtain the correct result with Grover's algorithm. The number of iteration can be set by the `iteration` argument of `Grover`. The following inputs are supported:\n",
    "* an integer to specify a single power of the Grover operator that's applied\n",
    "* or a list of integers, in which all these different powers of the Grover operator are run consecutively and after each time we check if a correct solution has been found\n",
    "\n",
    "Additionally there is the `sample_from_iterations` argument. When it is `True`, instead of the specific power in `iterations`, a random integer between 0 and the value in `iteration` is used as the power Grover's operator. This approach is useful when we don't even know the number of solution.\n",
    "\n",
    "For more details of the algorithm using `sample_from_iterations`, see [4].\n",
    "\n",
    "**References:**\n",
    "\n",
    "[4]: Boyer et al., Tight bounds on quantum searching [arxiv:quant-ph/9605034](https://arxiv.org/abs/quant-ph/9605034)"
   ]
  },
  {
   "cell_type": "code",
   "execution_count": null,
   "metadata": {},
   "outputs": [],
   "source": [
    "# integer iteration\n",
    "oracle = QuantumCircuit(2)\n",
    "oracle.cz(0, 1)\n",
    "problem = AmplificationProblem(oracle, is_good_state=['11'])\n",
    "grover = Grover(iterations=1)"
   ]
  },
  {
   "cell_type": "code",
   "execution_count": null,
   "metadata": {},
   "outputs": [],
   "source": [
    "# list iteration\n",
    "oracle = QuantumCircuit(2)\n",
    "oracle.cz(0, 1)\n",
    "problem = AmplificationProblem(oracle, is_good_state=['11'])\n",
    "grover = Grover(iterations=[1, 2, 3])"
   ]
  },
  {
   "cell_type": "code",
   "execution_count": null,
   "metadata": {},
   "outputs": [],
   "source": [
    "# using sample_from_iterations\n",
    "oracle = QuantumCircuit(2)\n",
    "oracle.cz(0, 1)\n",
    "problem = AmplificationProblem(oracle, is_good_state=['11'])\n",
    "grover = Grover(iterations=[1, 2, 3], sample_from_iterations=True)"
   ]
  },
  {
   "cell_type": "markdown",
   "metadata": {},
   "source": [
    "When the number of solutions is known, we can also use a static method `optimal_num_iterations` to find the optimal number of iterations. Note that the output iterations is an approximate value. When the number of qubits is small, the output iterations may not be optimal. In addition, the calculation of this value assumes the standard uniform superposition state preparation and may not be accurate for other state preparations.\n"
   ]
  },
  {
   "cell_type": "code",
   "execution_count": null,
   "metadata": {},
   "outputs": [],
   "source": [
    "iterations = Grover.optimal_num_iterations(num_solutions=1, num_qubits=8)\n",
    "iterations"
   ]
  },
  {
   "cell_type": "markdown",
   "metadata": {},
   "source": [
    "### Applying `post_processing`\n",
    "We can apply an optional post processing to the top measurement for ease of readability. It can be used e.g. to convert from the bit-representation of the measurement `[1, 0, 1]` to a DIMACS CNF format `[1, -2, 3]`."
   ]
  },
  {
   "cell_type": "code",
   "execution_count": null,
   "metadata": {},
   "outputs": [],
   "source": [
    "def to_DIAMACS_CNF_format(bit_rep):\n",
    "    return [index+1 if val==1 else -1 * (index + 1) for index, val in enumerate(bit_rep)]\n",
    "\n",
    "oracle = QuantumCircuit(2)\n",
    "oracle.cz(0, 1)\n",
    "problem = AmplificationProblem(oracle, is_good_state=['11'], post_processing=to_DIAMACS_CNF_format)\n",
    "problem.post_processing([1, 0, 1])"
   ]
  },
  {
   "cell_type": "markdown",
   "metadata": {},
   "source": [
    "# Classical Problem Using Quantum Implement <a name=\"Classical_Implementation\"></a>"
   ]
  },
  {
   "cell_type": "markdown",
   "metadata": {},
   "source": [
    "## Back to Screening Test <a name=\"screening-test\"></a>\n",
    "Some of you might not familiar to the screening test that made by Hoa Nguyen, so the Screening test basically:\n",
    "\n",
    "Develop a Python program to generate a list of $2n$ unique random positive integers, each using a maximum of $n$ bits and represented in decimals, and another random positive integer, $k$ , using $n$ bits.  Then, choose one (or more, if you prefer) of the following options to implement:\n",
    "\n",
    "**Please display the results and the number of steps required to achieve them.**\n",
    "\n",
    "💡Check if $k$ exists in the list.\n",
    "\n",
    "💡Find all integers less than $k$ in the list.\n",
    "\n",
    "💡What problems (1-2) we can implement a Quantum Solution into, explaining why and write out the code implementation ?\n",
    "\n",
    "Lets just skip \" generating a list of $2n$ and $k$ \" by using these under given list, K number and jump right into the 💡 problems. Given n = 5 then generate a random numbers list and k value that in the range of (0 -> 31)"
   ]
  },
  {
   "cell_type": "code",
   "execution_count": 37,
   "metadata": {},
   "outputs": [],
   "source": [
    "n = 5\n",
    "k, list_n = 8, [18, 26, 24, 4, 11, 2, 29, 9, 6, 16]\n"
   ]
  },
  {
   "cell_type": "markdown",
   "metadata": {},
   "source": [
    "Yes, I guessed you would come up with using Binary Search (BS) Algorithm to check out both \"`check k existance`\" and \"`find numbers < k`\". But BS need a sorted list of number to even start with, so help me create a sort out (in ascending order) `sorted_list_n` using the `list_n` above"
   ]
  },
  {
   "cell_type": "code",
   "execution_count": 41,
   "metadata": {},
   "outputs": [
    {
     "name": "stdout",
     "output_type": "stream",
     "text": [
      "[2, 4, 6, 9, 11, 16, 18, 24, 26, 29]\n"
     ]
    }
   ],
   "source": [
    "## Write your code below here ##\n",
    " \n",
    "\n",
    "\n",
    "## Write your code above here ## \n",
    "print(sorted_list_n)"
   ]
  },
  {
   "cell_type": "markdown",
   "metadata": {},
   "source": [
    "There also the code that \"check k existance\" by using BS algorithm and \"list the numbers < k\" by just slice `list input` up to the number's `position`"
   ]
  },
  {
   "cell_type": "code",
   "execution_count": 39,
   "metadata": {},
   "outputs": [],
   "source": [
    "def check_k_BinarySearch(k: int, array: list[int], low= 0, steps= 0):\n",
    "  # Repeat until the pointers low and high meet each other\n",
    "  high = len(array)-1\n",
    "  while low <= high:\n",
    "      steps += 1 # Count step for each iteration\n",
    "      mid = low + (high - low)//2\n",
    "      if array[mid] == k:\n",
    "          return True, steps, mid # K found\n",
    "      elif array[mid] < k:\n",
    "          low = mid + 1\n",
    "      else:\n",
    "          high = mid - 1\n",
    "  return False, steps, mid # K not found\n",
    "\n",
    "def find_less_than_k(position: int, list_input: list[int], steps=1):\n",
    "  new_list = list_input[:position]\n",
    "  return new_list, steps"
   ]
  },
  {
   "cell_type": "code",
   "execution_count": 47,
   "metadata": {},
   "outputs": [
    {
     "name": "stdout",
     "output_type": "stream",
     "text": [
      "(False, 3) 4\n",
      "([2, 4, 6], 1)\n"
     ]
    }
   ],
   "source": [
    "# example usage\n",
    "\n",
    "k_exist, ste, position = check_k_BinarySearch(k, sorted_list_n)\n",
    "print((k_exist, position), ste)\n",
    "\n",
    "list_nk = find_less_than_k(position, sorted_list_n)\n",
    "print(list_nk)"
   ]
  },
  {
   "cell_type": "markdown",
   "metadata": {},
   "source": [
    "The solution should come like this,\n",
    "\n",
    "`(False, 3) 4`\n",
    "\n",
    "`([2, 4, 6], 1)`\n",
    "\n",
    "where `(False, 3) 4` is K is **Not Exist** in the list, its take 4 step to see K > position 3, that list(3) < K < list(4)\n",
    "\n",
    "where `([2, 4, 6], 1)` is `[2, 4, 6]` is list containing the numbers that smaller than K and its take only 1 step to perfrom the function "
   ]
  },
  {
   "cell_type": "markdown",
   "metadata": {},
   "source": [
    "## The Implementation <a name=\"Implementation\"></a>\n",
    "\n",
    "So now moving on to implement the quantum grover's searching algorithm. we will going on step by step and hopefully we can get the result that similar to the upper classical solution "
   ]
  },
  {
   "cell_type": "code",
   "execution_count": 43,
   "metadata": {},
   "outputs": [
    {
     "name": "stdout",
     "output_type": "stream",
     "text": [
      "['10010', '11010', '11000', '00100', '01011', '00010', '11101', '01001', '00110', '10000']\n",
      "01000\n"
     ]
    }
   ],
   "source": [
    "import qiskit\n",
    "import qiskit_algorithms\n",
    "\n",
    "# Binary strings converting\n",
    "list_n_bit = [bin(i)[2:].zfill(n) for i in list_n]\n",
    "k_Q = bin(k)[2:].zfill(n)\n",
    "\n",
    "print(list_n_bit)\n",
    "print(k_Q)"
   ]
  },
  {
   "cell_type": "code",
   "execution_count": 44,
   "metadata": {},
   "outputs": [
    {
     "data": {
      "image/png": "[encoded data removed]",
      "text/plain": [
       "<Figure size 927.658x451.5 with 1 Axes>"
      ]
     },
     "execution_count": 44,
     "metadata": {},
     "output_type": "execute_result"
    }
   ],
   "source": [
    "from qiskit import QuantumCircuit\n",
    "from qiskit_algorithms import AmplificationProblem\n",
    "from qiskit_algorithms import Grover\n",
    "from qiskit.primitives import Sampler\n",
    "from qiskit.quantum_info import Statevector\n",
    "\n",
    "# Initial a n qubits circuit based on our k_Q bits value.\n",
    "# These 10 qubits containing 2^10 state, the state we desire to find is 'k_Q = 1110010000'\n",
    "# Mark the k_Q state for a higher amplitude than other\n",
    "oracle = Statevector.from_label(k_Q)\n",
    "\n",
    "# define Grover's algorithm\n",
    "# Mark the state of each value in the list, giving it a little bit higher amplitude than all other state\n",
    "problem = AmplificationProblem(oracle, is_good_state=list_n_bit)\n",
    "\n",
    "# draw the circuit by decompose() the grover operator to see it expanded into its component gates.\n",
    "problem.grover_operator.decompose().draw(output=\"mpl\")"
   ]
  },
  {
   "cell_type": "code",
   "execution_count": 45,
   "metadata": {},
   "outputs": [],
   "source": [
    "grover = Grover(sampler=Sampler())\n",
    "result = grover.amplify(problem)"
   ]
  },
  {
   "cell_type": "code",
   "execution_count": 46,
   "metadata": {},
   "outputs": [
    {
     "name": "stdout",
     "output_type": "stream",
     "text": [
      "Result type: <class 'qiskit_algorithms.amplitude_amplifiers.grover.GroverResult'>\n",
      "\n",
      "Top measurement: 01000\n",
      "Oracle evaluation: False\n",
      "01000 or k value (8) does not exist in the list\n",
      "of [18, 26, 24, 4, 11, 2, 29, 9, 6, 16]\n"
     ]
    }
   ],
   "source": [
    "print(\"Result type:\", type(result))\n",
    "print()\n",
    "print(\"Top measurement:\", result.top_measurement)\n",
    "print(\"Oracle evaluation:\", result.oracle_evaluation)\n",
    "print(f\"{result.top_measurement} or k value ({k}) does exist in the list\" if result.oracle_evaluation else f\"{result.top_measurement} or k value ({k}) does not exist in the list\")\n",
    "print(f\"of {list_n}\")"
   ]
  },
  {
   "cell_type": "markdown",
   "metadata": {},
   "source": [
    "## Practice <a name=\"Pra\"></a>\n"
   ]
  },
  {
   "cell_type": "markdown",
   "metadata": {},
   "source": [
    "# Congratulations! <a name=\"congrats\"></a>\n",
    "\n",
    "Congratulations on making it to the end of lab 2 - Grover's algorithm!\n",
    "\n",
    "You learned how to follow the workflow of Qiskit patterns to set up and applied the **Grover's algorithm**. You successfully created a `Grover` class of qubits, ultilized them and showed that it was using entangled qubits to find out the exact qubit we need among others. You also learned what is the basic step behind the algorithm and how it work as well. **Rock on!**\n",
    "\n",
    "With the basics down, you’re now ready to begin thinking like a quantum developer. It’s a little different than thinking like a quantum physicist, though. We’re not just making discoveries about how the world works—we’re trying to use quantum mechanics as a tool to solve meaningful problems and enact positive change in the world.\n",
    "\n",
    "_\"We like to say we’ve entered the era of quantum utility—for the first time, quantum computers can do things beyond the abilities of brute-force classical computing. Now, we’re looking for quantum advantage, where quantum computers are the best way to solve the problem. We need you, the quantum community for that—we need to uncover and implement quantum algorithms and apply them to real-world use cases. The rest of the challenge will be devoted to that—getting you to start thinking like a quantum developer.\"_\n",
    "\n",
    "_ _IBM on Quantum Computing Congratulation_ _\n",
    "\n",
    "You are now ready to move forward with the other labs of [Shor, and Deustch-Jozsa Algorithm Of QAC](https://github.com/QuantumAICloud/quantum-algorithms/). Good luck!"
   ]
  }
 ],
 "metadata": {
  "kernelspec": {
   "display_name": "qiskit",
   "language": "python",
   "name": "python3"
  },
  "language_info": {
   "codemirror_mode": {
    "name": "ipython",
    "version": 3
   },
   "file_extension": ".py",
   "mimetype": "text/x-python",
   "name": "python",
   "nbconvert_exporter": "python",
   "pygments_lexer": "ipython3",
   "version": "3.11.9"
  }
 },
 "nbformat": 4,
 "nbformat_minor": 2
}
