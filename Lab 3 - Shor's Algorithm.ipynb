{
 "cells": [
  {
   "cell_type": "markdown",
   "source": [
    "# Shor's Algorithm\n",
    "\n",
    "Shor's Algorithm, developed by mathematician Peter Shor in 1994, is a groundbreaking quantum algorithm that can efficiently solve the integer factorization problem. This problem underpins the security of widely used cryptographic systems, such as RSA encryption. The potential of Shor's Algorithm to break these cryptosystems has profound implications for the future of data security.\n",
    "\n",
    "In this notebook, we introduce Shor's algorithm to solve an actual integer factorization problem by implementing the algorithm on both quantum and classical parts using Qiskit 1.0, and run it on a quantum simulator."
   ],
   "metadata": {
    "collapsed": false
   },
   "id": "485706aa20e4cdfb"
  },
  {
   "cell_type": "markdown",
   "source": [
    "<div class=\"alert alert-block alert-warning\">\n",
    "\n",
    "This notebook was created for internal training purposes within the **QuantumAI.Cloud (QAC) Hub**, using materials referenced in the Reference section.\n",
    "\n",
    "</div>\n"
   ],
   "metadata": {
    "collapsed": false
   },
   "id": "75bc5910276160c1"
  },
  {
   "cell_type": "markdown",
   "source": [
    "## 0. Imports"
   ],
   "metadata": {
    "collapsed": false
   },
   "id": "34ff684409817023"
  },
  {
   "cell_type": "code",
   "outputs": [],
   "source": [
    "# pylint: disable=invalid-name\n",
    "import matplotlib.pyplot as plt\n",
    "import numpy as np\n",
    "from qiskit import QuantumCircuit, transpile\n",
    "from qiskit_aer import Aer # Note from Qiskit 1.0, Aer should be imported as this way\n",
    "from qiskit.visualization import plot_histogram\n",
    "from math import gcd\n",
    "from numpy.random import randint\n",
    "import pandas as pd\n",
    "from fractions import Fraction\n",
    "print(\"Imports Successful\")"
   ],
   "metadata": {
    "collapsed": false
   },
   "id": "cecf13f833011486",
   "execution_count": null
  },
  {
   "cell_type": "markdown",
   "source": [
    "## 1. Period Finding\n",
    "\n",
    "Let’s look at the periodic function:\n",
    "\n",
    "$$ f(x) = a^x \\bmod{N}$$\n",
    "\n",
    "<details>\n",
    "    <summary>Reminder: Modulo &amp; Modular Arithmetic (Click here to expand)</summary>\n",
    "\n",
    "The modulo operation (abbreviated to 'mod') simply means to find the remainder when dividing one number by another. For example:\n",
    "\n",
    "$$ 17 \\bmod 5 = 2 $$\n",
    "\n",
    "Since $17 \\div 5 = 3$ with remainder $2$. (i.e. $17 = (3\\times 5) + 2$). In Python, the modulo operation is denoted through the <code>%</code> symbol.\n",
    "\n",
    "This behaviour is used in <a href=\"https://en.wikipedia.org/wiki/Modular_arithmetic\">modular arithmetic</a>, where numbers 'wrap round' after reaching a certain value (the modulus). Using modular arithmetic, we could write:\n",
    "\n",
    "$$ 17 = 2 \\pmod 5$$\n",
    "\n",
    "Note that here the $\\pmod 5$ applies to the entire equation (since it's in parenthesis), unlike the equation above where it only applied to the left-hand side of the equation.\n",
    "</details>\n",
    "\n",
    "where $a$ and $N$ are positive integers, $a$ is less than $N$, and they have no common factors. The period, or order ($r$), is the smallest (non-zero) integer such that:\n",
    "\n",
    "$$a^r \\bmod N = 1 $$ \n",
    "\n",
    "We can see an example of this function plotted on the graph below. Note that the lines between points are to help see the periodicity and do not represent the intermediate values between the x-markers.\n"
   ],
   "metadata": {
    "collapsed": false
   },
   "id": "79b70e8c25507cc9"
  },
  {
   "cell_type": "markdown",
   "source": [
    "<div class=\"alert alert-block alert-warning\">\n",
    "Task: Fill the missing code below\n",
    "We will use $N=35$, $a=3$ as the example.\n",
    "\n",
    "Hint: Make sure you compute $a^r \\bmod N = 1 $ using python function: pow(a, r, N) to avoid the floating-point precision errors in the calculation of a**x mod N for larger values of x.\n",
    "</div>\n",
    "Run the code to check your findings!"
   ],
   "metadata": {
    "collapsed": false
   },
   "id": "5cb8486027e380b6"
  },
  {
   "cell_type": "code",
   "outputs": [],
   "source": [
    "N = 35\n",
    "a = 3\n",
    "\n",
    "# Calculate the plotting data\n",
    "\n",
    "### Write your code below here ###\n",
    "\n",
    "xvals = \n",
    "yvals = \n",
    "\n",
    "### Don't change any code past this line ###\n",
    "\n",
    "print(yvals)\n",
    "# Use matplotlib to display it nicely\n",
    "fig, ax = plt.subplots()\n",
    "ax.plot(xvals, yvals, linewidth=1, linestyle='dotted', marker='x')\n",
    "ax.set(xlabel='$x$', ylabel=f'${a}^x$ mod ${N}$',\n",
    "       title=\"Example of Periodic Function in Shor's Algorithm\")\n",
    "try: # plot r on the graph\n",
    "    r = yvals[1:].index(1) + 1\n",
    "    plt.annotate('', xy=(0,1), xytext=(r,1),\n",
    "                 arrowprops=dict(arrowstyle='<->'))\n",
    "    plt.annotate(f'$r={r}$', xy=(r/3,1.5))\n",
    "except ValueError:\n",
    "    print('Could not find period, check a < N and have no common factors.')"
   ],
   "metadata": {
    "collapsed": false
   },
   "id": "3cabd5e0889f4466",
   "execution_count": null
  },
  {
   "cell_type": "markdown",
   "source": [
    "## 2. The Solution\n",
    "\n",
    "Shor’s solution was to use [quantum phase estimation](https://www.youtube.com/watch?v=Ex96GyRIFes) on the unitary operator:\n",
    "\n",
    "$$ U|y\\rangle \\equiv |ay \\bmod N \\rangle $$\n",
    "\n",
    "To see how this is helpful, let’s work out what an eigenstate of U might look like. If we started in the state $|1\\rangle$, we can see that each successive application of U will multiply the state of our register by $a \\pmod N$, and after $r$ applications we will arrive at the state $|1\\rangle$ again. For example with $a = 3$ and $N = 35$:\n",
    "\n",
    "$$\\begin{aligned}\n",
    "U|1\\rangle &= |3\\rangle & \\\\\n",
    "U^2|1\\rangle &= |9\\rangle \\\\\n",
    "U^3|1\\rangle &= |27\\rangle \\\\\n",
    "& \\vdots \\\\\n",
    "U^{(r-1)}|1\\rangle &= |12\\rangle \\\\\n",
    "U^r|1\\rangle &= |1\\rangle \n",
    "\\end{aligned}$$\n",
    "\n",
    "The modulus for the entire period is:\n",
    "$$[1, 3, 9, 27, 11, 33, 29, 17, 16, 13, 4, 12]$$"
   ],
   "metadata": {
    "collapsed": false
   },
   "id": "666f94505392d016"
  },
  {
   "cell_type": "code",
   "outputs": [],
   "source": [
    "ax.set(xlabel='Number of applications of U',\n",
    "       ylabel='End state of register',\n",
    "       title=\"Effect of Successive Applications of U\")\n",
    "fig"
   ],
   "metadata": {
    "collapsed": false
   },
   "id": "82c64e2515d84163",
   "execution_count": null
  },
  {
   "cell_type": "markdown",
   "source": [
    "So a superposition of the states in this cycle ($|u_0\\rangle$) would be an eigenstate of $U$:\n",
    "\n",
    "$$|u_0\\rangle = \\tfrac{1}{\\sqrt{r}}\\sum_{k=0}^{r-1}{|a^k \\bmod N\\rangle} $$\n",
    "\n",
    "\n",
    "<details>\n",
    "    <summary>Click to Expand: Example with $a = 3$ and $N=35$</summary>\n",
    "\n",
    "$$\\begin{aligned}\n",
    "|u_0\\rangle &= \\tfrac{1}{\\sqrt{12}}(|1\\rangle + |3\\rangle + |9\\rangle \\dots + |4\\rangle + |12\\rangle) \\\\\n",
    "U|u_0\\rangle &= \\tfrac{1}{\\sqrt{12}}(U|1\\rangle + U|3\\rangle + U|9\\rangle \\dots + U|4\\rangle + U|12\\rangle) \\\\\n",
    " &= \\tfrac{1}{\\sqrt{12}}(|3\\rangle + |9\\rangle + |27\\rangle \\dots + |12\\rangle + |1\\rangle) \\\\\n",
    " &= |u_0\\rangle\n",
    "\\end{aligned}$$\n",
    "</details>\n",
    "\n",
    "\n",
    "This eigenstate has an eigenvalue of 1, which isn’t very interesting. A more interesting eigenstate could be one in which the phase is different for each of these computational basis states. Specifically, let’s look at the case in which the phase of the $k^\\text{th}$ state is proportional to $k$:\n",
    "\n",
    "$$\\begin{aligned}\n",
    "|u_1\\rangle &= \\tfrac{1}{\\sqrt{r}}\\sum_{k=0}^{r-1}{e^{-\\tfrac{2\\pi i k}{r}}|a^k \\bmod N\\rangle}\\\\\n",
    "U|u_1\\rangle &= e^{\\tfrac{2\\pi i}{r}}|u_1\\rangle \n",
    "\\end{aligned}\n",
    "$$\n",
    "\n",
    "<details>\n",
    "    <summary>Click to Expand: Example with $a = 3$ and $N=35$</summary>\n",
    "\n",
    "$$\\begin{aligned}\n",
    "|u_1\\rangle &= \\tfrac{1}{\\sqrt{12}}(|1\\rangle + e^{-\\tfrac{2\\pi i}{12}}|3\\rangle + e^{-\\tfrac{4\\pi i}{12}}|9\\rangle \\dots + e^{-\\tfrac{20\\pi i}{12}}|4\\rangle + e^{-\\tfrac{22\\pi i}{12}}|12\\rangle) \\\\\n",
    "U|u_1\\rangle &= \\tfrac{1}{\\sqrt{12}}(|3\\rangle + e^{-\\tfrac{2\\pi i}{12}}|9\\rangle + e^{-\\tfrac{4\\pi i}{12}}|27\\rangle \\dots + e^{-\\tfrac{20\\pi i}{12}}|12\\rangle + e^{-\\tfrac{22\\pi i}{12}}|1\\rangle) \\\\\n",
    "U|u_1\\rangle &= e^{\\tfrac{2\\pi i}{12}}\\cdot\\tfrac{1}{\\sqrt{12}}(e^{\\tfrac{-2\\pi i}{12}}|3\\rangle + e^{-\\tfrac{4\\pi i}{12}}|9\\rangle + e^{-\\tfrac{6\\pi i}{12}}|27\\rangle \\dots + e^{-\\tfrac{22\\pi i}{12}}|12\\rangle + e^{-\\tfrac{24\\pi i}{12}}|1\\rangle) \\\\\n",
    "U|u_1\\rangle &= e^{\\tfrac{2\\pi i}{12}}|u_1\\rangle\n",
    "\\end{aligned}$$\n",
    "\n",
    "(We can see $r = 12$ appears in the denominator of the phase.)\n",
    "</details>\n",
    "\n",
    "This is a particularly interesting eigenvalue as it contains $r$. In fact, $r$ has to be included to make sure the phase differences between the $r$ computational basis states are equal. This is not the only eigenstate with this behaviour; to generalise this further, we can multiply an integer, $s$, to this phase difference, which will show up in our eigenvalue:\n",
    "\n",
    "$$\\begin{aligned}\n",
    "|u_s\\rangle &= \\tfrac{1}{\\sqrt{r}}\\sum_{k=0}^{r-1}{e^{-\\tfrac{2\\pi i s k}{r}}|a^k \\bmod N\\rangle}\\\\\n",
    "U|u_s\\rangle &= e^{\\tfrac{2\\pi i s}{r}}|u_s\\rangle \n",
    "\\end{aligned}\n",
    "$$\n",
    "\n",
    "<details>\n",
    "    <summary>Click to Expand: Example with $a = 3$ and $N=35$</summary>\n",
    "\n",
    "$$\\begin{aligned}\n",
    "|u_s\\rangle &= \\tfrac{1}{\\sqrt{12}}(|1\\rangle + e^{-\\tfrac{2\\pi i s}{12}}|3\\rangle + e^{-\\tfrac{4\\pi i s}{12}}|9\\rangle \\dots + e^{-\\tfrac{20\\pi i s}{12}}|4\\rangle + e^{-\\tfrac{22\\pi i s}{12}}|12\\rangle) \\\\\n",
    "U|u_s\\rangle &= \\tfrac{1}{\\sqrt{12}}(|3\\rangle + e^{-\\tfrac{2\\pi i s}{12}}|9\\rangle + e^{-\\tfrac{4\\pi i s}{12}}|27\\rangle \\dots + e^{-\\tfrac{20\\pi i s}{12}}|12\\rangle + e^{-\\tfrac{22\\pi i s}{12}}|1\\rangle) \\\\\n",
    "U|u_s\\rangle &= e^{\\tfrac{2\\pi i s}{12}}\\cdot\\tfrac{1}{\\sqrt{12}}(e^{-\\tfrac{2\\pi i s}{12}}|3\\rangle + e^{-\\tfrac{4\\pi i s}{12}}|9\\rangle + e^{-\\tfrac{6\\pi i s}{12}}|27\\rangle \\dots + e^{-\\tfrac{22\\pi i s}{12}}|12\\rangle + e^{-\\tfrac{24\\pi i s}{12}}|1\\rangle) \\\\\n",
    "U|u_s\\rangle &= e^{\\tfrac{2\\pi i s}{12}}|u_s\\rangle\n",
    "\\end{aligned}$$\n",
    "\n",
    "</details>\n",
    "\n",
    "We now have a unique eigenstate for each integer value of $s$ where $0 \\leq s \\leq r-1.$ Very conveniently, if we sum up all these eigenstates, the different phases cancel out all computational basis states except $|1\\rangle$:\n",
    "\n",
    "$$ \\tfrac{1}{\\sqrt{r}}\\sum_{s=0}^{r-1} |u_s\\rangle = |1\\rangle$$\n",
    "\n",
    "<details>\n",
    "    <summary>Click to Expand: Example with $a = 7$ and $N=15$</summary>\n",
    "\n",
    "For this, we will look at a smaller example where $a = 7$ and $N=15$. In this case $r=4$:\n",
    "\n",
    "$$\\begin{aligned}\n",
    "\\tfrac{1}{2}(\\quad|u_0\\rangle &= \\tfrac{1}{2}(|1\\rangle \\hphantom{e^{-\\tfrac{2\\pi i}{12}}}+ |7\\rangle \\hphantom{e^{-\\tfrac{12\\pi i}{12}}} + |4\\rangle \\hphantom{e^{-\\tfrac{12\\pi i}{12}}} + |13\\rangle)\\dots \\\\\n",
    "+ |u_1\\rangle &= \\tfrac{1}{2}(|1\\rangle + e^{-\\tfrac{2\\pi i}{4}}|7\\rangle + e^{-\\tfrac{\\hphantom{1}4\\pi i}{4}}|4\\rangle + e^{-\\tfrac{\\hphantom{1}6\\pi i}{4}}|13\\rangle)\\dots \\\\\n",
    "+ |u_2\\rangle &= \\tfrac{1}{2}(|1\\rangle + e^{-\\tfrac{4\\pi i}{4}}|7\\rangle + e^{-\\tfrac{\\hphantom{1}8\\pi i}{4}}|4\\rangle + e^{-\\tfrac{12\\pi i}{4}}|13\\rangle)\\dots \\\\\n",
    "+ |u_3\\rangle &= \\tfrac{1}{2}(|1\\rangle + e^{-\\tfrac{6\\pi i}{4}}|7\\rangle + e^{-\\tfrac{12\\pi i}{4}}|4\\rangle + e^{-\\tfrac{18\\pi i}{4}}|13\\rangle)\\quad) = |1\\rangle \\\\\n",
    "\\end{aligned}$$\n",
    "\n",
    "</details>\n",
    "\n",
    "Since the computational basis state $|1\\rangle$ is a superposition of these eigenstates, which means if we do QPE on $U$ using the state $|1\\rangle$, we will measure a phase:\n",
    "\n",
    "$$\\phi = \\frac{s}{r}$$\n",
    "\n",
    "Where $s$ is a random integer between $0$ and $r-1$. We finally use the [continued fractions](https://en.wikipedia.org/wiki/Continued_fraction) algorithm on $\\phi$ to find $r$. The circuit diagram looks like this (note that this diagram uses Qiskit's qubit ordering convention):\n",
    "\n",
    "<img src=\"../images/shor_circuit_1.svg\">\n",
    "\n",
    "We will next demonstrate Shor’s algorithm using Qiskit’s simulators. For this demonstration we will provide the circuits for $U$ without explanation, but in section 4 we will discuss how circuits for $U^{2^j}$ can be constructed efficiently."
   ],
   "metadata": {
    "collapsed": false
   },
   "id": "f98943fb5db944d5"
  },
  {
   "cell_type": "markdown",
   "source": [
    "## 3. Qiskit Implementation"
   ],
   "metadata": {
    "collapsed": false
   },
   "id": "f81fc49df3218f07"
  },
  {
   "cell_type": "markdown",
   "source": [
    "### 3.1 Creating $U^x$ Circuit\n",
    "Shor's algorithm is able to solve the period finding problem for any legit pairs of $a$ and $N$. This time, we will use $N=15$ as an example. We provide the circuits for $U$ where:\n",
    "\n",
    "$$U|y\\rangle = |ay\\bmod 15\\rangle $$\n",
    "\n",
    "without explanation. To create $U^x$, we will simply repeat the circuit $x$ times. In the next section we will discuss a general method for creating these circuits efficiently. The function `c_amod15` returns the controlled-U gate for `a`, repeated `power` times."
   ],
   "metadata": {
    "collapsed": false
   },
   "id": "e563d8f5f5f42764"
  },
  {
   "cell_type": "markdown",
   "source": [
    "<div class=\"alert alert-block alert-warning\">\n",
    "3.1.1 Task: Choosing $a$ and $N$\n",
    "\n",
    "For this algorithm to work correctly, $a$ and $N$ must be coprime, i.e., $\\text{gcd}(a,N) = 1$. We need to ensure the input of $a$ and $N$ do satisfy this condition. So our first step is to write a function `are_coprime`, check if two numbers are coprime. It should return `True` if two numbers are coprime, `False` otherwise.\n",
    "</div>\n",
    "Note: You can use the `gcd` function imported from python's default math library. It has been already imported for you."
   ],
   "metadata": {
    "collapsed": false
   },
   "id": "6972c752407e38de"
  },
  {
   "cell_type": "code",
   "outputs": [],
   "source": [
    "def are_coprime(a, N):\n",
    "    \n",
    "    ### Write your code below here ###\n",
    "\n",
    "\n",
    "    return True # Change this line"
   ],
   "metadata": {
    "collapsed": false
   },
   "id": "41aaad21eb3c7be6",
   "execution_count": null
  },
  {
   "cell_type": "markdown",
   "source": [
    "<div class=\"alert alert-block alert-warning\">\n",
    "3.1.2 Task: Defining the quantum circuit size based on $N$\n",
    "\n",
    "Our size of the quantum circuit depends on the bit string length of our $N$ converted to binary from decimal. We can of course compute it by using $\\text{ceil}(\\log_2 N)$, but for future usage we will write a function converting the decimal number representation to binary number representation, and determine its length. For the following function `decimal_to_binary`, fill in the missing codes. It should return the string of $N$ in binary representation.\n",
    "</div>"
   ],
   "metadata": {
    "collapsed": false
   },
   "id": "573e6bbc0b7ce8a4"
  },
  {
   "cell_type": "code",
   "outputs": [],
   "source": [
    "def decimal_to_binary(n):\n",
    "    if n == 0:\n",
    "        return \"\" # Fill in the value\n",
    "    binary_num = \"\"\n",
    "    while n > 0:\n",
    "        binary_num = str(n % 2) + binary_num\n",
    "        n = # Fill in the value\n",
    "    return binary_num"
   ],
   "metadata": {
    "collapsed": false
   },
   "id": "5de008c1890994a8",
   "execution_count": null
  },
  {
   "cell_type": "markdown",
   "source": [
    "<div class=\"alert alert-block alert-warning\">\n",
    "3.1.3 Task: Finish the function `c_amod15`\n",
    "\n",
    "Now we are ready to finish the $U$ circuit. We will:\n",
    "- Check if a and N (15 for this example) are coprime,\n",
    "- Initialise the quantum circuit\n",
    "- Constructing $a\\bmod{15}$ multiplication using swap gates and X gates\n",
    "- Convert our entire $U$ circuit into a controlled gate\n",
    "\n",
    "Constructing $a\\bmod{15}$ is out of this Jupyter Notebook's teaching scope. You can write down the truth table for different $a$s and examine the correctness of the gates. Now, we can use our previously defined function, fill in the missing codes.\n",
    "</div>"
   ],
   "metadata": {
    "collapsed": false
   },
   "id": "379516da998768da"
  },
  {
   "cell_type": "code",
   "outputs": [
    {
     "ename": "SyntaxError",
     "evalue": "invalid syntax (3272258168.py, line 5)",
     "output_type": "error",
     "traceback": [
      "\u001B[1;36m  Cell \u001B[1;32mIn[2], line 5\u001B[1;36m\u001B[0m\n\u001B[1;33m    U =  # Fill in the construction of the quantum circuit\u001B[0m\n\u001B[1;37m         ^\u001B[0m\n\u001B[1;31mSyntaxError\u001B[0m\u001B[1;31m:\u001B[0m invalid syntax\n"
     ]
    }
   ],
   "source": [
    "def c_amod15(a, power):\n",
    "    \"\"\"Controlled multiplication by a mod 15\"\"\"\n",
    "    if (True): # Fill in the condition\n",
    "        raise ValueError(\"'a' and 15 must be coprime\")\n",
    "    U =  # Fill in the construction of the quantum circuit\n",
    "    ### Don't change any code past this line until the next instruction comment ###\n",
    "    \n",
    "    for _iteration in range(power):\n",
    "        if a in [2,13]: #0010,1101\n",
    "            U.swap(2,3)\n",
    "            U.swap(1,2)\n",
    "            U.swap(0,1)\n",
    "        if a in [7,8]: #0111,1000\n",
    "            U.swap(0,1)\n",
    "            U.swap(1,2)\n",
    "            U.swap(2,3)\n",
    "        if a in [4, 11]: #0100,1011\n",
    "            U.swap(1,3)\n",
    "            U.swap(0,2)\n",
    "        if a in [7,11,13]: #0111, 1011, 1101\n",
    "            for q in range(4):\n",
    "                U.x(q)\n",
    "    U = U.to_gate()\n",
    "    U.name = f\"{a}^{power} mod 15\"\n",
    "    c_U = U.control() # Make U gate as a controlled gate\n",
    "    return c_U"
   ],
   "metadata": {
    "collapsed": false,
    "ExecuteTime": {
     "end_time": "2024-06-27T01:40:06.022735Z",
     "start_time": "2024-06-27T01:40:05.958576Z"
    }
   },
   "id": "1837adeb0ef5acc4",
   "execution_count": 2
  },
  {
   "cell_type": "markdown",
   "source": [
    "### 3.2 Finish the entire circuit\n",
    "\n",
    "We will use 8 counting qubits at this time."
   ],
   "metadata": {
    "collapsed": false
   },
   "id": "c8455518166aed87"
  },
  {
   "cell_type": "code",
   "outputs": [],
   "source": [
    "# Specify variables\n",
    "N_COUNT = 8  # number of counting qubits\n",
    "a = 7"
   ],
   "metadata": {
    "collapsed": false
   },
   "id": "25c54d615f2f508d",
   "execution_count": null
  },
  {
   "cell_type": "markdown",
   "source": [
    "We also import the circuit for the QFT (you can explore more about the QFT in the [Quantum Soar's QFT explanation video](https://www.youtube.com/watch?v=svSxHaDYHC0)):"
   ],
   "metadata": {
    "collapsed": false
   },
   "id": "d5bd983ae2252e63"
  },
  {
   "cell_type": "code",
   "outputs": [],
   "source": [
    "def qft_dagger(n):\n",
    "    \"\"\"n-qubit QFTdagger the first n qubits in circ\"\"\"\n",
    "    qc = QuantumCircuit(n)\n",
    "    # Don't forget the Swaps!\n",
    "    for qubit in range(n//2):\n",
    "        qc.swap(qubit, n-qubit-1)\n",
    "    for j in range(n):\n",
    "        for m in range(j):\n",
    "            qc.cp(-np.pi/float(2**(j-m)), m, j)\n",
    "        qc.h(j)\n",
    "    qc.name = \"QFT†\"\n",
    "    return qc"
   ],
   "metadata": {
    "collapsed": false
   },
   "id": "69dc56a750bd9ec1",
   "execution_count": null
  },
  {
   "cell_type": "markdown",
   "source": [
    "With these building blocks we can easily construct the circuit for Shor's algorithm:\n",
    "<div class=\"alert alert-block alert-warning\">\n",
    "Task: Fill in the lines to completely construct a Shor's algorithm circuit\n",
    "</div>"
   ],
   "metadata": {
    "collapsed": false
   },
   "id": "f4705e86dc225199"
  },
  {
   "cell_type": "code",
   "outputs": [],
   "source": [
    "# Create QuantumCircuit with N_COUNT counting qubits\n",
    "# plus 4 qubits for U to act on\n",
    "qc = QuantumCircuit(N_COUNT + 4, N_COUNT)\n",
    "\n",
    "# Initialize counting qubits\n",
    "# in state |+>\n",
    "for q in range(N_COUNT):\n",
    "    # Fill in the code \n",
    "\n",
    "# And auxiliary register in state |1>\n",
    "qc.x(N_COUNT)\n",
    "\n",
    "# Do controlled-U operations\n",
    "for q in range(N_COUNT):\n",
    "    # Fill in the code\n",
    "\n",
    "# Do inverse-QFT\n",
    "# Fill in the code\n",
    "\n",
    "# Measure circuit\n",
    "qc.measure(range(N_COUNT), range(N_COUNT))\n",
    "qc.draw(fold=-1)  # -1 means 'do not fold'"
   ],
   "metadata": {
    "collapsed": false
   },
   "id": "24541af150eacca9",
   "execution_count": null
  },
  {
   "cell_type": "markdown",
   "source": [
    "### 3.3 Measuring the results\n",
    "\n",
    "Let's see what results we measure, using Aer simulator from qiskit:"
   ],
   "metadata": {
    "collapsed": false
   },
   "id": "246ecc955dfd4b87"
  },
  {
   "cell_type": "code",
   "outputs": [],
   "source": [
    "aer_sim = Aer.get_backend('aer_simulator')\n",
    "t_qc = transpile(qc, aer_sim)\n",
    "counts = aer_sim.run(t_qc).result().get_counts()\n",
    "plot_histogram(counts)"
   ],
   "metadata": {
    "collapsed": false
   },
   "id": "f1aa79963d1c2236",
   "execution_count": null
  },
  {
   "cell_type": "markdown",
   "source": [
    "Remember these results are the possible measured phases $m$. Based on the formula $m = s\\frac{2^n}{r}$, or $\\frac{s}{r} = \\frac{m}{2^n}$, we need to convert it to find $s$ and $r$. Let's out put the phases first:\n",
    "<div class=\"alert alert-block alert-warning\">\n",
    "Task: Fill in the code by the instruction. \n",
    "</div>"
   ],
   "metadata": {
    "collapsed": false
   },
   "id": "3071d35ded8e04ff"
  },
  {
   "cell_type": "code",
   "outputs": [],
   "source": [
    "rows, measured_phases = [], []\n",
    "for output in counts:\n",
    "    decimal =   # Convert (base 2) string to decimal\n",
    "    phase =   # Find corresponding eigenvalue\n",
    "    measured_phases.append(phase)\n",
    "    # Add these values to the rows in our table:\n",
    "    rows.append([f\"{output}(bin) = {decimal:>3}(dec)\",\n",
    "                 f\"{decimal}/{2**N_COUNT} = {phase:.2f}\"])\n",
    "# Print the rows in a table\n",
    "headers=[\"Register Output\", \"Phase\"]\n",
    "df = pd.DataFrame(rows, columns=headers)\n",
    "print(df)"
   ],
   "metadata": {
    "collapsed": false
   },
   "id": "c30fba5112e85031",
   "execution_count": null
  },
  {
   "cell_type": "markdown",
   "source": [
    "We can now use the continued fractions algorithm to attempt to find $s$ and $r$. Python has this functionality built in: We can use the `fractions` module to turn a float into a `Fraction` object, for example:"
   ],
   "metadata": {
    "collapsed": false
   },
   "id": "c88a08f6ebdb3419"
  },
  {
   "cell_type": "code",
   "outputs": [],
   "source": [
    "Fraction(0.666)"
   ],
   "metadata": {
    "collapsed": false
   },
   "id": "dc1ee39839c1b4ac",
   "execution_count": null
  },
  {
   "cell_type": "markdown",
   "source": [
    "Because this gives fractions that return the result exactly (in this case, 0.6660000...), this can give gnarly results like the one above. We can use the .limit_denominator() method to get the fraction that most closely resembles our float, with denominator below a certain value:"
   ],
   "metadata": {
    "collapsed": false
   },
   "id": "2982eee81a55be7c"
  },
  {
   "cell_type": "code",
   "outputs": [],
   "source": [
    "# Get fraction that most closely resembles 0.666\n",
    "# with denominator < 15\n",
    "Fraction(0.666).limit_denominator(15)"
   ],
   "metadata": {
    "collapsed": false
   },
   "id": "32c0893e9b826c08",
   "execution_count": null
  },
  {
   "cell_type": "markdown",
   "source": [
    "Much nicer! The order (r) must be less than N, so we will set the maximum denominator to be `15`:\n",
    "<div class=\"alert alert-block alert-warning\">\n",
    "Task: Use continued fraction algorithm on each phase and calculate the result\n",
    "</div>"
   ],
   "metadata": {
    "collapsed": false
   },
   "id": "6d241f6a0747b8aa"
  },
  {
   "cell_type": "code",
   "outputs": [],
   "source": [
    "rows = []\n",
    "for phase in measured_phases:\n",
    "    frac =  # Fill: Remember to limit the denominator size\n",
    "    rows.append([phase,\n",
    "                 f\"{frac.numerator}/{frac.denominator}\",\n",
    "                 frac.denominator])\n",
    "# Print as a table\n",
    "headers=[\"Phase\", \"Fraction\", \"Guess for r\"]\n",
    "df = pd.DataFrame(rows, columns=headers)\n",
    "print(df)"
   ],
   "metadata": {
    "collapsed": false
   },
   "id": "6efd935f25f42802",
   "execution_count": null
  },
  {
   "cell_type": "markdown",
   "source": [
    "We can see that two of the measured eigenvalues provided us with the correct result: $r=4$, and we can see that Shor’s algorithm has a chance of failing. These bad results are because $s = 0$, or because $s$ and $r$ are not coprime and instead of $r$ we are given a factor of $r$. The easiest solution to this is to simply repeat the experiment until we get a satisfying result for $r$.\n",
    "\n",
    "### Quick Exercise\n",
    "\n",
    "- Change the circuit above for values of $a = 2, 8, 11$ and $13$. What results do you get and why?"
   ],
   "metadata": {
    "collapsed": false
   },
   "id": "2981016665f22064"
  },
  {
   "cell_type": "markdown",
   "source": [
    "## 4. Modular Exponentiation\n",
    "\n",
    "You may have noticed that the method of creating the $U^{2^j}$ gates by repeating $U$ grows exponentially with $j$ and will not result in a polynomial time algorithm. We want a way to create the operator:\n",
    "\n",
    "$$ U^{2^j}|y\\rangle = |a^{2^j}y \\bmod N \\rangle $$\n",
    "\n",
    "that grows polynomially with $j$. Fortunately, calculating:\n",
    "\n",
    "$$ a^{2^j} \\bmod N$$\n",
    "\n",
    "efficiently is possible. Classical computers can use an algorithm known as _repeated squaring_ to calculate an exponential. In our case, since we are only dealing with exponentials of the form $2^j$, the repeated squaring algorithm becomes very simple:"
   ],
   "metadata": {
    "collapsed": false
   },
   "id": "24f27155eb19df75"
  },
  {
   "cell_type": "code",
   "outputs": [],
   "source": [
    "def a2jmodN(a, j, N):\n",
    "    \"\"\"Compute a^{2^j} (mod N) by repeated squaring\"\"\"\n",
    "    for _ in range(j):\n",
    "        a = np.mod(a**2, N)\n",
    "    return a"
   ],
   "metadata": {
    "collapsed": false
   },
   "id": "fd088ba1e01a310b",
   "execution_count": null
  },
  {
   "cell_type": "code",
   "outputs": [],
   "source": [
    "a2jmodN(7, 2049, 53)"
   ],
   "metadata": {
    "collapsed": false
   },
   "id": "39fdc5e3ebc81f10",
   "execution_count": null
  },
  {
   "cell_type": "markdown",
   "source": [
    "If an efficient algorithm is possible in Python, then we can use the same algorithm on a quantum computer. Unfortunately, despite scaling polynomially with $j$, modular exponentiation circuits are not straightforward and are the bottleneck in Shor’s algorithm. A beginner-friendly implementation can be found in reference [1].\n"
   ],
   "metadata": {
    "collapsed": false
   },
   "id": "8c58b19a53d0e0bc"
  },
  {
   "cell_type": "markdown",
   "source": [
    "## 5. Factoring from Period Finding\n",
    "\n",
    "Not all factoring problems are difficult; we can spot an even number instantly and know that one of its factors is 2. In fact, there are [specific criteria](https://nvlpubs.nist.gov/nistpubs/FIPS/NIST.FIPS.186-4.pdf#%5B%7B%22num%22%3A127%2C%22gen%22%3A0%7D%2C%7B%22name%22%3A%22XYZ%22%7D%2C70%2C223%2C0%5D) for choosing numbers that are difficult to factor, but the basic idea is to choose the product of two large prime numbers.\n",
    "\n",
    "A general factoring algorithm will first check to see if there is a shortcut to factoring the integer (is the number even? Is the number of the form $N = a^b$?), before using Shor’s period finding for the worst-case scenario. Since we aim to focus on the quantum part of the algorithm, we will jump straight to the case in which N is the product of two primes.\n",
    "\n",
    "### Example: Factoring 15\n",
    "\n",
    "To see an example of factoring on a small number of qubits, we will factor 15, which we all know is the product of the not-so-large prime numbers 3 and 5.\n",
    "\n",
    "<div class=\"alert alert-block alert-warning\">\n",
    "Task: Follow the steps and fill in the missing codes\n",
    "</div>"
   ],
   "metadata": {
    "collapsed": false
   },
   "id": "5b61d009380b1e9d"
  },
  {
   "cell_type": "code",
   "outputs": [],
   "source": [
    "N = 15\n",
    "np.random.seed(1) # This is to make sure we get reproduceable results\n",
    "\n",
    "### Write your code below here ###\n",
    "\n",
    " # 1. Using randint(), generate a random integer 'a' which satisfies: 1 < a < N\n",
    " # 2. Use our previous function, check if a and N are coprime"
   ],
   "metadata": {
    "collapsed": false
   },
   "id": "789643c88dd42450",
   "execution_count": null
  },
  {
   "cell_type": "markdown",
   "source": [
    "Great. Next, we do Shor's order finding algorithm for `a = 7` and `N = 15`. Remember that the phase we measure will be $s/r$ where:\n",
    "\n",
    "$$ a^r \\bmod N = 1 $$\n",
    "\n",
    "and $s$ is a random integer between 0 and $r-1$."
   ],
   "metadata": {
    "collapsed": false
   },
   "id": "8d45af61c4f4051c"
  },
  {
   "cell_type": "code",
   "outputs": [],
   "source": [
    "def qpe_amod15(a):\n",
    "    \"\"\"Performs quantum phase estimation on the operation a*r mod 15.\n",
    "    Args:\n",
    "        a (int): This is 'a' in a*r mod 15\n",
    "    Returns:\n",
    "        float: Estimate of the phase\n",
    "    \"\"\"\n",
    "    N_COUNT = 8\n",
    "    qc = QuantumCircuit(4+N_COUNT, N_COUNT)\n",
    "    for q in range(N_COUNT):\n",
    "        qc.h(q)     # Initialize counting qubits in state |+>\n",
    "    qc.x(N_COUNT) # And auxiliary register in state |1>\n",
    "    for q in range(N_COUNT): # Do controlled-U operations\n",
    "        qc.append(c_amod15(a, 2**q),\n",
    "                 [q] + [i+N_COUNT for i in range(4)])\n",
    "    qc.append(qft_dagger(N_COUNT), range(N_COUNT)) # Do inverse-QFT\n",
    "    qc.measure(range(N_COUNT), range(N_COUNT))\n",
    "    # Simulate Results\n",
    "    aer_sim = Aer.get_backend('aer_simulator')\n",
    "    # `memory=True` tells the backend to save each measurement in a list\n",
    "    job = aer_sim.run(transpile(qc, aer_sim), shots=1, memory=True)\n",
    "    readings = job.result().get_memory()\n",
    "    print(\"Register Reading: \" + readings[0])\n",
    "    phase = int(readings[0],2)/(2**N_COUNT)\n",
    "    print(f\"Corresponding Phase: {phase}\")\n",
    "    return phase"
   ],
   "metadata": {
    "collapsed": false
   },
   "id": "80ce21bbdd513336",
   "execution_count": null
  },
  {
   "cell_type": "markdown",
   "source": [
    "From this phase, we can easily find a guess for $r$:"
   ],
   "metadata": {
    "collapsed": false
   },
   "id": "2fd3a3b6ebf90dc0"
  },
  {
   "cell_type": "code",
   "outputs": [],
   "source": [
    "phase = qpe_amod15(a) # Phase = s/r\n",
    "Fraction(phase).limit_denominator(15)"
   ],
   "metadata": {
    "collapsed": false
   },
   "id": "ef69ad54e35c9789",
   "execution_count": null
  },
  {
   "cell_type": "code",
   "outputs": [],
   "source": [
    "frac = Fraction(phase).limit_denominator(15)\n",
    "s, r = frac.numerator, frac.denominator\n",
    "print(r)"
   ],
   "metadata": {
    "collapsed": false
   },
   "id": "38fddd1f2394800a",
   "execution_count": null
  },
  {
   "cell_type": "markdown",
   "source": [
    "Now we have $r$, we might be able to use this to find a factor of $N$. Since:\n",
    "\n",
    "$$a^r \\bmod N = 1 $$\n",
    "\n",
    "then:\n",
    "\n",
    "$$(a^r - 1) \\bmod N = 0 $$\n",
    "\n",
    "which means $N$ must divide $a^r-1$. And if $r$ is also even, then we can write:\n",
    "\n",
    "$$a^r -1 = (a^{r/2}-1)(a^{r/2}+1)$$\n",
    "\n",
    "(if $r$ is not even, we cannot go further and must try again with a different value for $a$). There is then a high probability that the greatest common divisor of $N$ and either $a^{r/2}-1$, or $a^{r/2}+1$ is a proper factor of $N$ [2]:\n",
    "\n",
    "<div class=\"alert alert-block alert-warning\">\n",
    "Task: Write a function `compute_guesses` to compute the guesses using `gcd` function\n",
    "</div>"
   ],
   "metadata": {
    "collapsed": false
   },
   "id": "ed074fb0f55a7518"
  },
  {
   "cell_type": "code",
   "outputs": [],
   "source": [
    "def compute_guesses(a, r, N):\n",
    "    \n",
    "    guesses = []\n",
    "    ### Append two guesses into the list ###\n",
    "    ### Write your code below ###\n",
    "    \n",
    "    \n",
    "    \n",
    "    return guesses"
   ],
   "metadata": {
    "collapsed": false
   },
   "id": "f980b8c2741ab3af",
   "execution_count": null
  },
  {
   "cell_type": "code",
   "outputs": [],
   "source": [
    "compute_guesses(a,r,N)"
   ],
   "metadata": {
    "collapsed": false
   },
   "id": "64caf7daed49b0e7",
   "execution_count": null
  },
  {
   "cell_type": "markdown",
   "source": [
    "The cell below repeats the algorithm until at least one factor of 15 is found. You should try re-running the cell a few times to see how it behaves."
   ],
   "metadata": {
    "collapsed": false
   },
   "id": "6a39383434232d0"
  },
  {
   "cell_type": "code",
   "outputs": [],
   "source": [
    "a = 7\n",
    "FACTOR_FOUND = False\n",
    "ATTEMPT = 0\n",
    "while not FACTOR_FOUND:\n",
    "    ATTEMPT += 1\n",
    "    print(f\"\\nATTEMPT {ATTEMPT}:\")\n",
    "    phase = qpe_amod15(a) # Phase = s/r\n",
    "    frac = Fraction(phase).limit_denominator(N)\n",
    "    r = frac.denominator\n",
    "    print(f\"Result: r = {r}\")\n",
    "    if phase != 0:\n",
    "        # Guesses for factors are gcd(x^{r/2} ±1 , 15)\n",
    "        guesses = compute_guesses(a, r, N)\n",
    "        print(f\"Guessed Factors: {guesses[0]} and {guesses[1]}\")\n",
    "        for guess in guesses:\n",
    "            if guess not in [1,N] and (N % guess) == 0:\n",
    "                # Guess is a factor!\n",
    "                print(f\"*** Non-trivial factor found: {guess} ***\")\n",
    "                FACTOR_FOUND = True"
   ],
   "metadata": {
    "collapsed": false
   },
   "id": "6787278c14fa9416",
   "execution_count": null
  },
  {
   "cell_type": "code",
   "outputs": [],
   "source": [
    "# The cell below repeats the algorithm until at least one factor of 15\n",
    "# is found\n",
    "assert (3 in guesses) or (5 in guesses)"
   ],
   "metadata": {
    "collapsed": false
   },
   "id": "9c89ccccc821c5e1",
   "execution_count": null
  },
  {
   "cell_type": "markdown",
   "source": [
    "# Congratulations!\n",
    "\n",
    "You just managed to solve all the problem and factorized 15 using Shor's algorithm! You may think it is easy to factorize 15 by a classical computer, or even by your brain! However, Shor's algorithm can be extremely useful when the number gets exponentially larger, and quantum supremacy comes in. Nice work, and hope you enjoy your future quantum computing studies! For those who want to challenge themselves, here is another challenge for you:"
   ],
   "metadata": {
    "collapsed": false
   },
   "id": "dce4009809b1aed0"
  },
  {
   "cell_type": "markdown",
   "source": [
    "## Challenge: Try factorizing using another $N$ (Due to the complexity of modular exponentiation, you can try $N=6$ first)"
   ],
   "metadata": {
    "collapsed": false
   },
   "id": "4fe2fd2ab8b6b0f3"
  },
  {
   "cell_type": "markdown",
   "source": [
    "# References\n",
    "\n",
    "1. Stephane Beauregard, _Circuit for Shor's algorithm using 2n+3 qubits,_ [arXiv:quant-ph/0205095](https://arxiv.org/abs/quant-ph/0205095)\n",
    "\n",
    "2. M. Nielsen and I. Chuang, _Quantum Computation and Quantum Information,_ Cambridge Series on Information and the Natural Sciences (Cambridge University Press, Cambridge, 2000). (Page 633)\n",
    "\n",
    "3. [Qiskit Textbook](https://github.com/Qiskit/textbook/blob/main/notebooks/ch-algorithms/shor.ipynb)\n",
    "\n",
    "4. [Quantum Soar](https://www.youtube.com/@quantum-soar)"
   ],
   "metadata": {
    "collapsed": false
   },
   "id": "ec6e3387c239574a"
  }
 ],
 "metadata": {
  "kernelspec": {
   "display_name": "Python 3",
   "language": "python",
   "name": "python3"
  },
  "language_info": {
   "codemirror_mode": {
    "name": "ipython",
    "version": 2
   },
   "file_extension": ".py",
   "mimetype": "text/x-python",
   "name": "python",
   "nbconvert_exporter": "python",
   "pygments_lexer": "ipython2",
   "version": "2.7.6"
  }
 },
 "nbformat": 4,
 "nbformat_minor": 5
}
